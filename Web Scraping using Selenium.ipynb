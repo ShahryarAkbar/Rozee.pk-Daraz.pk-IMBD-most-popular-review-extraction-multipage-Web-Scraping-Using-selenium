{
 "cells": [
  {
   "cell_type": "markdown",
   "id": "d3252fff",
   "metadata": {},
   "source": [
    "# Question 1\n",
    "After successfully completing your degree, hopefully within eight semesters xD, you're embarking on the job search phase. Traditional job hunting can be a bit boring, so why not consider automation as a solution? Luckily, your PAI class introduced you to Selenium, an automation tool.\n",
    "\n",
    "You've thinking of developing a simple script to navigate rozee.pk and indeed websites, searching for AI/ML Engineer positions. This script extracts crucial information from each job listing, such as job titles, company names, job locations, gender preferences, age requirements, minimum education levels, and experience details (if available). All this data should be neatly organized into a Pandas dataframe, including links to the job listings. Perform analysis on dataframe to find a job which best suits you."
   ]
  },
  {
   "cell_type": "code",
   "execution_count": 47,
   "id": "57225b28",
   "metadata": {},
   "outputs": [
    {
     "name": "stdout",
     "output_type": "stream",
     "text": [
      "Element not interactable. Moving to the next job element.\n",
      "Element not interactable. Moving to the next job element.\n",
      "Element not interactable. Moving to the next job element.\n",
      "Element not interactable. Moving to the next job element.\n",
      "Element not interactable. Moving to the next job element.\n",
      "Skipping job at index 7\n",
      "Skipping job at index 8\n",
      "                            Title                    Company name  \\\n",
      "0   AI / ML Application Developer               HRK Software Park   \n",
      "1                     AI Engineer                    Legalator AI   \n",
      "2  AI / Machine Learning Engineer                   Quantsys Corp   \n",
      "3         Design Sales Consultant                 AI Technologies   \n",
      "4    Business Development Officer  Ai Professionals (Pvt) Limited   \n",
      "5                    AI Developer                 Production King   \n",
      "\n",
      "                                           Location                Gender  \\\n",
      "0                                  Lahore, Pakistan         No Preference   \n",
      "1                                     No Preference             Bachelors   \n",
      "2  Islamabad, Karachi, Lahore, Rawalpindi, Pakistan         No Preference   \n",
      "3                                     No Preference  Intermediate/A-Level   \n",
      "4                                     No Preference             Bachelors   \n",
      "5                     Daska Road, Sialkot, Pakistan         No Preference   \n",
      "\n",
      "                                  Minimum Education  \\\n",
      "0                                         Bachelors   \n",
      "1                                       Entry Level   \n",
      "2                               Masters - Doctorate   \n",
      "3  Computer Science, Engineering or a related field   \n",
      "4                                       Entry Level   \n",
      "5                                           Masters   \n",
      "\n",
      "                                        Career Level Minimum Experience  \n",
      "0                                        Entry Level            2 Years  \n",
      "1                                             1 Year       Nov 27, 2023  \n",
      "2  MSc or PhD in AI, computer science and electri...        Entry Level  \n",
      "3                                        Entry Level             1 Year  \n",
      "4                                   Less than 1 Year       Dec 14, 2023  \n",
      "5                           Experienced Professional            5 Years  \n"
     ]
    }
   ],
   "source": [
    "from selenium import webdriver\n",
    "from selenium.webdriver.common.by import By\n",
    "from selenium.webdriver.chrome.service import Service as ChromeService\n",
    "from webdriver_manager.chrome import ChromeDriverManager\n",
    "from selenium.common.exceptions import ElementNotInteractableException, NoSuchElementException\n",
    "\n",
    "def extract_job_info(driver):\n",
    "    Title=None,\n",
    "    Company_name=None,\n",
    "    Location=None,\n",
    "    Gender=None,\n",
    "    Minimum_Education=None,\n",
    "    Career_Level=None,\n",
    "    Minimum_Experience=None\n",
    "    \n",
    "    try:\n",
    "        title=driver.find_element(By.CSS_SELECTOR, 'body > section > div > div.row > div.col-md-9.font15 > div.boxb.border-0.border-0.job-dtl.p-0.pos___here > div.position-sticky.sg.z3 > div > div:nth-child(1) > div:nth-child(1) > div > h1 > bdi').text\n",
    "    except NoSuchElementException:\n",
    "        print(\"Title not found\")\n",
    "    \n",
    "    try:\n",
    "        company_name=driver.find_element(By.CSS_SELECTOR, 'body > section > div > div.row > div.col-md-9.font15 > div.boxb.border-0.border-0.job-dtl.p-0.pos___here > div.position-sticky.sg.z3 > div > div:nth-child(1) > div:nth-child(1) > div > h2 > a > bdi').text\n",
    "    except NoSuchElementException:\n",
    "        print(\"Name not found\")\n",
    "    \n",
    "    driver.execute_script(\"window.scrollTo(0, 500);\")\n",
    "    time.sleep(1)\n",
    "    \n",
    "    try:\n",
    "        location=driver.find_element(By.CSS_SELECTOR, '#jbDetail > div.jblk.col-pl-0 > div > div:nth-child(6) > div.col-lg-7.col-md-7.col-sm-8.col-sm-6').text\n",
    "    except NoSuchElementException:\n",
    "        print(\"location not found\")\n",
    "    \n",
    "    try:\n",
    "        gender=driver.find_element(By.CSS_SELECTOR, '#jbDetail > div.jblk.col-pl-0 > div > div:nth-child(7) > div.col-lg-7.col-md-7.col-sm-8.col-sm-6').text\n",
    "    except NoSuchElementException:\n",
    "        print(\"gender not found\")\n",
    "        \n",
    "    try:\n",
    "        education=driver.find_element(By.CSS_SELECTOR, '#jbDetail > div.jblk.col-pl-0 > div > div:nth-child(8) > div.col-lg-7.col-md-7.col-sm-8.col-sm-6').text\n",
    "    except NoSuchElementException:\n",
    "        print(\"min education not found\")\n",
    "    \n",
    "    try:\n",
    "        carrer_level=driver.find_element(By.CSS_SELECTOR, '#jbDetail > div.jblk.col-pl-0 > div > div:nth-child(9) > div.col-lg-7.col-md-7.col-sm-8.col-sm-6').text\n",
    "    except NoSuchElementException:\n",
    "        print(\"carrer level not found\")\n",
    "    \n",
    "    try:\n",
    "        experience=driver.find_element(By.CSS_SELECTOR, '#jbDetail > div.jblk.col-pl-0 > div > div:nth-child(10) > div.col-lg-7.col-md-7.col-sm-8.col-sm-6').text\n",
    "    except NoSuchElementException:\n",
    "        print(\"experience not found\")\n",
    "    \n",
    "    return {\n",
    "        \"Title\":title,\n",
    "        \"Company name\":company_name,\n",
    "        \"Location\":location,\n",
    "        \"Gender\" : gender,\n",
    "        \"Minimum Education\" : education,\n",
    "        \"Career Level\" : carrer_level,\n",
    "        \"Minimum Experience\" : experience\n",
    "    }\n",
    "    \n",
    "\n",
    "driver = webdriver.Chrome(service=ChromeService(ChromeDriverManager().install()))\n",
    "driver.get('https://www.rozee.pk/')\n",
    "search_bar = driver.find_element(By.XPATH, '/html/body/div[2]/div[3]/div[2]/form/div[1]/input')\n",
    "search_bar.send_keys('AI/ML Engineer' + Keys.RETURN)\n",
    "\n",
    "job_elements = driver.find_elements(By.CLASS_NAME, 'jcont')\n",
    "\n",
    "columns = [\n",
    "    \"Title\",\n",
    "    \"Company name\",\n",
    "    \"Location\",\n",
    "    \"Gender\",\n",
    "    \"Minimum Education\",\n",
    "    \"Career Level\",\n",
    "    \"Minimum Experience\"\n",
    "]\n",
    "df = pd.DataFrame(columns=columns)\n",
    "# Iterate through each job element\n",
    "for index, job_element in enumerate(job_elements):\n",
    "    try:\n",
    "        # Skip the 2nd job element\n",
    "        if index == 6 or index == 7:\n",
    "            print(f\"Skipping job at index {index + 1}\")\n",
    "            continue\n",
    "\n",
    "        # Get the job title\n",
    "        title = job_element.text\n",
    "\n",
    "        # Use ActionChains to perform a click on the job element, opening in a new tab\n",
    "        ActionChains(driver).key_down(Keys.CONTROL).click(job_element).key_up(Keys.CONTROL).perform()\n",
    "\n",
    "        # Wait for the new tab to be opened\n",
    "        WebDriverWait(driver, 10).until(lambda d: len(d.window_handles) > 1)\n",
    "\n",
    "        # Switch to the new tab\n",
    "        driver.switch_to.window(driver.window_handles[1])\n",
    "\n",
    "        # Extract information for the current job\n",
    "        job_info = extract_job_info(driver)\n",
    "\n",
    "        # Close the tab\n",
    "        driver.close()\n",
    "\n",
    "        # Switch back to the initial tab\n",
    "        driver.switch_to.window(driver.window_handles[0])\n",
    "\n",
    "        # Wait for a short time to allow the page to settle\n",
    "        time.sleep(2)\n",
    "\n",
    "        # Append the job info to the DataFrame\n",
    "        if job_info:\n",
    "            row_data = pd.Series(job_info)\n",
    "            df = pd.concat([df, row_data.to_frame().T], ignore_index=True)\n",
    "    except ElementNotInteractableException:\n",
    "        print(\"Element not interactable. Moving to the next job element.\")\n",
    "\n",
    "# Close the browser\n",
    "driver.quit()\n",
    "\n",
    "# Display the DataFrame\n",
    "print(df)\n",
    "      \n",
    "        \n",
    "        \n",
    "        "
   ]
  },
  {
   "cell_type": "code",
   "execution_count": 48,
   "id": "e8761bc0",
   "metadata": {},
   "outputs": [
    {
     "data": {
      "text/html": [
       "<div>\n",
       "<style scoped>\n",
       "    .dataframe tbody tr th:only-of-type {\n",
       "        vertical-align: middle;\n",
       "    }\n",
       "\n",
       "    .dataframe tbody tr th {\n",
       "        vertical-align: top;\n",
       "    }\n",
       "\n",
       "    .dataframe thead th {\n",
       "        text-align: right;\n",
       "    }\n",
       "</style>\n",
       "<table border=\"1\" class=\"dataframe\">\n",
       "  <thead>\n",
       "    <tr style=\"text-align: right;\">\n",
       "      <th></th>\n",
       "      <th>Title</th>\n",
       "      <th>Company name</th>\n",
       "      <th>Location</th>\n",
       "      <th>Gender</th>\n",
       "      <th>Minimum Education</th>\n",
       "      <th>Career Level</th>\n",
       "      <th>Minimum Experience</th>\n",
       "    </tr>\n",
       "  </thead>\n",
       "  <tbody>\n",
       "    <tr>\n",
       "      <th>0</th>\n",
       "      <td>AI / ML Application Developer</td>\n",
       "      <td>HRK Software Park</td>\n",
       "      <td>Lahore, Pakistan</td>\n",
       "      <td>No Preference</td>\n",
       "      <td>Bachelors</td>\n",
       "      <td>Entry Level</td>\n",
       "      <td>2 Years</td>\n",
       "    </tr>\n",
       "    <tr>\n",
       "      <th>1</th>\n",
       "      <td>AI Engineer</td>\n",
       "      <td>Legalator AI</td>\n",
       "      <td>No Preference</td>\n",
       "      <td>Bachelors</td>\n",
       "      <td>Entry Level</td>\n",
       "      <td>1 Year</td>\n",
       "      <td>Nov 27, 2023</td>\n",
       "    </tr>\n",
       "    <tr>\n",
       "      <th>2</th>\n",
       "      <td>AI / Machine Learning Engineer</td>\n",
       "      <td>Quantsys Corp</td>\n",
       "      <td>Islamabad, Karachi, Lahore, Rawalpindi, Pakistan</td>\n",
       "      <td>No Preference</td>\n",
       "      <td>Masters - Doctorate</td>\n",
       "      <td>MSc or PhD in AI, computer science and electri...</td>\n",
       "      <td>Entry Level</td>\n",
       "    </tr>\n",
       "    <tr>\n",
       "      <th>3</th>\n",
       "      <td>Design Sales Consultant</td>\n",
       "      <td>AI Technologies</td>\n",
       "      <td>No Preference</td>\n",
       "      <td>Intermediate/A-Level</td>\n",
       "      <td>Computer Science, Engineering or a related field</td>\n",
       "      <td>Entry Level</td>\n",
       "      <td>1 Year</td>\n",
       "    </tr>\n",
       "    <tr>\n",
       "      <th>4</th>\n",
       "      <td>Business Development Officer</td>\n",
       "      <td>Ai Professionals (Pvt) Limited</td>\n",
       "      <td>No Preference</td>\n",
       "      <td>Bachelors</td>\n",
       "      <td>Entry Level</td>\n",
       "      <td>Less than 1 Year</td>\n",
       "      <td>Dec 14, 2023</td>\n",
       "    </tr>\n",
       "    <tr>\n",
       "      <th>5</th>\n",
       "      <td>AI Developer</td>\n",
       "      <td>Production King</td>\n",
       "      <td>Daska Road, Sialkot, Pakistan</td>\n",
       "      <td>No Preference</td>\n",
       "      <td>Masters</td>\n",
       "      <td>Experienced Professional</td>\n",
       "      <td>5 Years</td>\n",
       "    </tr>\n",
       "  </tbody>\n",
       "</table>\n",
       "</div>"
      ],
      "text/plain": [
       "                            Title                    Company name  \\\n",
       "0   AI / ML Application Developer               HRK Software Park   \n",
       "1                     AI Engineer                    Legalator AI   \n",
       "2  AI / Machine Learning Engineer                   Quantsys Corp   \n",
       "3         Design Sales Consultant                 AI Technologies   \n",
       "4    Business Development Officer  Ai Professionals (Pvt) Limited   \n",
       "5                    AI Developer                 Production King   \n",
       "\n",
       "                                           Location                Gender  \\\n",
       "0                                  Lahore, Pakistan         No Preference   \n",
       "1                                     No Preference             Bachelors   \n",
       "2  Islamabad, Karachi, Lahore, Rawalpindi, Pakistan         No Preference   \n",
       "3                                     No Preference  Intermediate/A-Level   \n",
       "4                                     No Preference             Bachelors   \n",
       "5                     Daska Road, Sialkot, Pakistan         No Preference   \n",
       "\n",
       "                                  Minimum Education  \\\n",
       "0                                         Bachelors   \n",
       "1                                       Entry Level   \n",
       "2                               Masters - Doctorate   \n",
       "3  Computer Science, Engineering or a related field   \n",
       "4                                       Entry Level   \n",
       "5                                           Masters   \n",
       "\n",
       "                                        Career Level Minimum Experience  \n",
       "0                                        Entry Level            2 Years  \n",
       "1                                             1 Year       Nov 27, 2023  \n",
       "2  MSc or PhD in AI, computer science and electri...        Entry Level  \n",
       "3                                        Entry Level             1 Year  \n",
       "4                                   Less than 1 Year       Dec 14, 2023  \n",
       "5                           Experienced Professional            5 Years  "
      ]
     },
     "execution_count": 48,
     "metadata": {},
     "output_type": "execute_result"
    }
   ],
   "source": [
    "df"
   ]
  },
  {
   "cell_type": "markdown",
   "id": "e4070b15",
   "metadata": {},
   "source": [
    "# Question 2\n",
    "Develop a basic movie recommendation system that scrapes data from the IMDb website. The program will retrieve information from the Most Popular Movies page on IMDb. The data to be scraped is\n",
    "\n",
    "1) Movie Titles\n",
    "2) Runtime\n",
    "3) Rating\n",
    "4) Age Restriction\n",
    "5) Genre\n",
    "6) Writer(s)\n",
    "7) Director(s)\n",
    "8) Fun Movie Trivia\n",
    "The data will be stored in a Pandas dataframe."
   ]
  },
  {
   "cell_type": "code",
   "execution_count": 59,
   "id": "6ea12fff",
   "metadata": {},
   "outputs": [
    {
     "name": "stderr",
     "output_type": "stream",
     "text": [
      "C:\\Users\\HP\\AppData\\Local\\Temp\\ipykernel_816\\4083687735.py:137: FutureWarning: The frame.append method is deprecated and will be removed from pandas in a future version. Use pandas.concat instead.\n",
      "  movies = movies.append(row_data, ignore_index=True)\n",
      "C:\\Users\\HP\\AppData\\Local\\Temp\\ipykernel_816\\4083687735.py:137: FutureWarning: The frame.append method is deprecated and will be removed from pandas in a future version. Use pandas.concat instead.\n",
      "  movies = movies.append(row_data, ignore_index=True)\n"
     ]
    },
    {
     "name": "stdout",
     "output_type": "stream",
     "text": [
      "Age restrictions not found\n",
      "Runtime not found\n"
     ]
    },
    {
     "name": "stderr",
     "output_type": "stream",
     "text": [
      "C:\\Users\\HP\\AppData\\Local\\Temp\\ipykernel_816\\4083687735.py:137: FutureWarning: The frame.append method is deprecated and will be removed from pandas in a future version. Use pandas.concat instead.\n",
      "  movies = movies.append(row_data, ignore_index=True)\n"
     ]
    },
    {
     "name": "stdout",
     "output_type": "stream",
     "text": [
      "Age restrictions not found\n",
      "Runtime not found\n",
      "Ratings not found\n"
     ]
    },
    {
     "name": "stderr",
     "output_type": "stream",
     "text": [
      "C:\\Users\\HP\\AppData\\Local\\Temp\\ipykernel_816\\4083687735.py:137: FutureWarning: The frame.append method is deprecated and will be removed from pandas in a future version. Use pandas.concat instead.\n",
      "  movies = movies.append(row_data, ignore_index=True)\n",
      "C:\\Users\\HP\\AppData\\Local\\Temp\\ipykernel_816\\4083687735.py:137: FutureWarning: The frame.append method is deprecated and will be removed from pandas in a future version. Use pandas.concat instead.\n",
      "  movies = movies.append(row_data, ignore_index=True)\n",
      "C:\\Users\\HP\\AppData\\Local\\Temp\\ipykernel_816\\4083687735.py:137: FutureWarning: The frame.append method is deprecated and will be removed from pandas in a future version. Use pandas.concat instead.\n",
      "  movies = movies.append(row_data, ignore_index=True)\n",
      "C:\\Users\\HP\\AppData\\Local\\Temp\\ipykernel_816\\4083687735.py:137: FutureWarning: The frame.append method is deprecated and will be removed from pandas in a future version. Use pandas.concat instead.\n",
      "  movies = movies.append(row_data, ignore_index=True)\n",
      "C:\\Users\\HP\\AppData\\Local\\Temp\\ipykernel_816\\4083687735.py:137: FutureWarning: The frame.append method is deprecated and will be removed from pandas in a future version. Use pandas.concat instead.\n",
      "  movies = movies.append(row_data, ignore_index=True)\n"
     ]
    },
    {
     "name": "stdout",
     "output_type": "stream",
     "text": [
      "Ratings not found\n"
     ]
    },
    {
     "name": "stderr",
     "output_type": "stream",
     "text": [
      "C:\\Users\\HP\\AppData\\Local\\Temp\\ipykernel_816\\4083687735.py:137: FutureWarning: The frame.append method is deprecated and will be removed from pandas in a future version. Use pandas.concat instead.\n",
      "  movies = movies.append(row_data, ignore_index=True)\n",
      "C:\\Users\\HP\\AppData\\Local\\Temp\\ipykernel_816\\4083687735.py:137: FutureWarning: The frame.append method is deprecated and will be removed from pandas in a future version. Use pandas.concat instead.\n",
      "  movies = movies.append(row_data, ignore_index=True)\n",
      "C:\\Users\\HP\\AppData\\Local\\Temp\\ipykernel_816\\4083687735.py:137: FutureWarning: The frame.append method is deprecated and will be removed from pandas in a future version. Use pandas.concat instead.\n",
      "  movies = movies.append(row_data, ignore_index=True)\n"
     ]
    },
    {
     "name": "stdout",
     "output_type": "stream",
     "text": [
      "Ratings not found\n"
     ]
    },
    {
     "name": "stderr",
     "output_type": "stream",
     "text": [
      "C:\\Users\\HP\\AppData\\Local\\Temp\\ipykernel_816\\4083687735.py:137: FutureWarning: The frame.append method is deprecated and will be removed from pandas in a future version. Use pandas.concat instead.\n",
      "  movies = movies.append(row_data, ignore_index=True)\n",
      "C:\\Users\\HP\\AppData\\Local\\Temp\\ipykernel_816\\4083687735.py:137: FutureWarning: The frame.append method is deprecated and will be removed from pandas in a future version. Use pandas.concat instead.\n",
      "  movies = movies.append(row_data, ignore_index=True)\n",
      "C:\\Users\\HP\\AppData\\Local\\Temp\\ipykernel_816\\4083687735.py:137: FutureWarning: The frame.append method is deprecated and will be removed from pandas in a future version. Use pandas.concat instead.\n",
      "  movies = movies.append(row_data, ignore_index=True)\n"
     ]
    },
    {
     "name": "stdout",
     "output_type": "stream",
     "text": [
      "Age restrictions not found\n",
      "Runtime not found\n",
      "Ratings not found\n"
     ]
    },
    {
     "name": "stderr",
     "output_type": "stream",
     "text": [
      "C:\\Users\\HP\\AppData\\Local\\Temp\\ipykernel_816\\4083687735.py:137: FutureWarning: The frame.append method is deprecated and will be removed from pandas in a future version. Use pandas.concat instead.\n",
      "  movies = movies.append(row_data, ignore_index=True)\n",
      "C:\\Users\\HP\\AppData\\Local\\Temp\\ipykernel_816\\4083687735.py:137: FutureWarning: The frame.append method is deprecated and will be removed from pandas in a future version. Use pandas.concat instead.\n",
      "  movies = movies.append(row_data, ignore_index=True)\n",
      "C:\\Users\\HP\\AppData\\Local\\Temp\\ipykernel_816\\4083687735.py:137: FutureWarning: The frame.append method is deprecated and will be removed from pandas in a future version. Use pandas.concat instead.\n",
      "  movies = movies.append(row_data, ignore_index=True)\n",
      "C:\\Users\\HP\\AppData\\Local\\Temp\\ipykernel_816\\4083687735.py:137: FutureWarning: The frame.append method is deprecated and will be removed from pandas in a future version. Use pandas.concat instead.\n",
      "  movies = movies.append(row_data, ignore_index=True)\n",
      "C:\\Users\\HP\\AppData\\Local\\Temp\\ipykernel_816\\4083687735.py:137: FutureWarning: The frame.append method is deprecated and will be removed from pandas in a future version. Use pandas.concat instead.\n",
      "  movies = movies.append(row_data, ignore_index=True)\n",
      "C:\\Users\\HP\\AppData\\Local\\Temp\\ipykernel_816\\4083687735.py:137: FutureWarning: The frame.append method is deprecated and will be removed from pandas in a future version. Use pandas.concat instead.\n",
      "  movies = movies.append(row_data, ignore_index=True)\n",
      "C:\\Users\\HP\\AppData\\Local\\Temp\\ipykernel_816\\4083687735.py:137: FutureWarning: The frame.append method is deprecated and will be removed from pandas in a future version. Use pandas.concat instead.\n",
      "  movies = movies.append(row_data, ignore_index=True)\n",
      "C:\\Users\\HP\\AppData\\Local\\Temp\\ipykernel_816\\4083687735.py:137: FutureWarning: The frame.append method is deprecated and will be removed from pandas in a future version. Use pandas.concat instead.\n",
      "  movies = movies.append(row_data, ignore_index=True)\n",
      "C:\\Users\\HP\\AppData\\Local\\Temp\\ipykernel_816\\4083687735.py:137: FutureWarning: The frame.append method is deprecated and will be removed from pandas in a future version. Use pandas.concat instead.\n",
      "  movies = movies.append(row_data, ignore_index=True)\n",
      "C:\\Users\\HP\\AppData\\Local\\Temp\\ipykernel_816\\4083687735.py:137: FutureWarning: The frame.append method is deprecated and will be removed from pandas in a future version. Use pandas.concat instead.\n",
      "  movies = movies.append(row_data, ignore_index=True)\n"
     ]
    },
    {
     "name": "stdout",
     "output_type": "stream",
     "text": [
      "Age restrictions not found\n",
      "Runtime not found\n",
      "Ratings not found\n"
     ]
    },
    {
     "name": "stderr",
     "output_type": "stream",
     "text": [
      "C:\\Users\\HP\\AppData\\Local\\Temp\\ipykernel_816\\4083687735.py:137: FutureWarning: The frame.append method is deprecated and will be removed from pandas in a future version. Use pandas.concat instead.\n",
      "  movies = movies.append(row_data, ignore_index=True)\n",
      "C:\\Users\\HP\\AppData\\Local\\Temp\\ipykernel_816\\4083687735.py:137: FutureWarning: The frame.append method is deprecated and will be removed from pandas in a future version. Use pandas.concat instead.\n",
      "  movies = movies.append(row_data, ignore_index=True)\n",
      "C:\\Users\\HP\\AppData\\Local\\Temp\\ipykernel_816\\4083687735.py:137: FutureWarning: The frame.append method is deprecated and will be removed from pandas in a future version. Use pandas.concat instead.\n",
      "  movies = movies.append(row_data, ignore_index=True)\n",
      "C:\\Users\\HP\\AppData\\Local\\Temp\\ipykernel_816\\4083687735.py:137: FutureWarning: The frame.append method is deprecated and will be removed from pandas in a future version. Use pandas.concat instead.\n",
      "  movies = movies.append(row_data, ignore_index=True)\n"
     ]
    },
    {
     "name": "stdout",
     "output_type": "stream",
     "text": [
      "Age restrictions not found\n",
      "Runtime not found\n",
      "Ratings not found\n"
     ]
    },
    {
     "name": "stderr",
     "output_type": "stream",
     "text": [
      "C:\\Users\\HP\\AppData\\Local\\Temp\\ipykernel_816\\4083687735.py:137: FutureWarning: The frame.append method is deprecated and will be removed from pandas in a future version. Use pandas.concat instead.\n",
      "  movies = movies.append(row_data, ignore_index=True)\n"
     ]
    },
    {
     "name": "stdout",
     "output_type": "stream",
     "text": [
      "Age restrictions not found\n",
      "Runtime not found\n",
      "Ratings not found\n"
     ]
    },
    {
     "name": "stderr",
     "output_type": "stream",
     "text": [
      "C:\\Users\\HP\\AppData\\Local\\Temp\\ipykernel_816\\4083687735.py:137: FutureWarning: The frame.append method is deprecated and will be removed from pandas in a future version. Use pandas.concat instead.\n",
      "  movies = movies.append(row_data, ignore_index=True)\n",
      "C:\\Users\\HP\\AppData\\Local\\Temp\\ipykernel_816\\4083687735.py:137: FutureWarning: The frame.append method is deprecated and will be removed from pandas in a future version. Use pandas.concat instead.\n",
      "  movies = movies.append(row_data, ignore_index=True)\n",
      "C:\\Users\\HP\\AppData\\Local\\Temp\\ipykernel_816\\4083687735.py:137: FutureWarning: The frame.append method is deprecated and will be removed from pandas in a future version. Use pandas.concat instead.\n",
      "  movies = movies.append(row_data, ignore_index=True)\n",
      "C:\\Users\\HP\\AppData\\Local\\Temp\\ipykernel_816\\4083687735.py:137: FutureWarning: The frame.append method is deprecated and will be removed from pandas in a future version. Use pandas.concat instead.\n",
      "  movies = movies.append(row_data, ignore_index=True)\n",
      "C:\\Users\\HP\\AppData\\Local\\Temp\\ipykernel_816\\4083687735.py:137: FutureWarning: The frame.append method is deprecated and will be removed from pandas in a future version. Use pandas.concat instead.\n",
      "  movies = movies.append(row_data, ignore_index=True)\n",
      "C:\\Users\\HP\\AppData\\Local\\Temp\\ipykernel_816\\4083687735.py:137: FutureWarning: The frame.append method is deprecated and will be removed from pandas in a future version. Use pandas.concat instead.\n",
      "  movies = movies.append(row_data, ignore_index=True)\n",
      "C:\\Users\\HP\\AppData\\Local\\Temp\\ipykernel_816\\4083687735.py:137: FutureWarning: The frame.append method is deprecated and will be removed from pandas in a future version. Use pandas.concat instead.\n",
      "  movies = movies.append(row_data, ignore_index=True)\n",
      "C:\\Users\\HP\\AppData\\Local\\Temp\\ipykernel_816\\4083687735.py:137: FutureWarning: The frame.append method is deprecated and will be removed from pandas in a future version. Use pandas.concat instead.\n",
      "  movies = movies.append(row_data, ignore_index=True)\n",
      "C:\\Users\\HP\\AppData\\Local\\Temp\\ipykernel_816\\4083687735.py:137: FutureWarning: The frame.append method is deprecated and will be removed from pandas in a future version. Use pandas.concat instead.\n",
      "  movies = movies.append(row_data, ignore_index=True)\n",
      "C:\\Users\\HP\\AppData\\Local\\Temp\\ipykernel_816\\4083687735.py:137: FutureWarning: The frame.append method is deprecated and will be removed from pandas in a future version. Use pandas.concat instead.\n",
      "  movies = movies.append(row_data, ignore_index=True)\n"
     ]
    },
    {
     "name": "stdout",
     "output_type": "stream",
     "text": [
      "Age restrictions not found\n",
      "Runtime not found\n"
     ]
    },
    {
     "name": "stderr",
     "output_type": "stream",
     "text": [
      "C:\\Users\\HP\\AppData\\Local\\Temp\\ipykernel_816\\4083687735.py:137: FutureWarning: The frame.append method is deprecated and will be removed from pandas in a future version. Use pandas.concat instead.\n",
      "  movies = movies.append(row_data, ignore_index=True)\n",
      "C:\\Users\\HP\\AppData\\Local\\Temp\\ipykernel_816\\4083687735.py:137: FutureWarning: The frame.append method is deprecated and will be removed from pandas in a future version. Use pandas.concat instead.\n",
      "  movies = movies.append(row_data, ignore_index=True)\n",
      "C:\\Users\\HP\\AppData\\Local\\Temp\\ipykernel_816\\4083687735.py:137: FutureWarning: The frame.append method is deprecated and will be removed from pandas in a future version. Use pandas.concat instead.\n",
      "  movies = movies.append(row_data, ignore_index=True)\n"
     ]
    },
    {
     "name": "stdout",
     "output_type": "stream",
     "text": [
      "Ratings not found\n"
     ]
    },
    {
     "name": "stderr",
     "output_type": "stream",
     "text": [
      "C:\\Users\\HP\\AppData\\Local\\Temp\\ipykernel_816\\4083687735.py:137: FutureWarning: The frame.append method is deprecated and will be removed from pandas in a future version. Use pandas.concat instead.\n",
      "  movies = movies.append(row_data, ignore_index=True)\n",
      "C:\\Users\\HP\\AppData\\Local\\Temp\\ipykernel_816\\4083687735.py:137: FutureWarning: The frame.append method is deprecated and will be removed from pandas in a future version. Use pandas.concat instead.\n",
      "  movies = movies.append(row_data, ignore_index=True)\n",
      "C:\\Users\\HP\\AppData\\Local\\Temp\\ipykernel_816\\4083687735.py:137: FutureWarning: The frame.append method is deprecated and will be removed from pandas in a future version. Use pandas.concat instead.\n",
      "  movies = movies.append(row_data, ignore_index=True)\n",
      "C:\\Users\\HP\\AppData\\Local\\Temp\\ipykernel_816\\4083687735.py:137: FutureWarning: The frame.append method is deprecated and will be removed from pandas in a future version. Use pandas.concat instead.\n",
      "  movies = movies.append(row_data, ignore_index=True)\n",
      "C:\\Users\\HP\\AppData\\Local\\Temp\\ipykernel_816\\4083687735.py:137: FutureWarning: The frame.append method is deprecated and will be removed from pandas in a future version. Use pandas.concat instead.\n",
      "  movies = movies.append(row_data, ignore_index=True)\n",
      "C:\\Users\\HP\\AppData\\Local\\Temp\\ipykernel_816\\4083687735.py:137: FutureWarning: The frame.append method is deprecated and will be removed from pandas in a future version. Use pandas.concat instead.\n",
      "  movies = movies.append(row_data, ignore_index=True)\n"
     ]
    },
    {
     "name": "stdout",
     "output_type": "stream",
     "text": [
      "Age restrictions not found\n",
      "Runtime not found\n",
      "Ratings not found\n"
     ]
    },
    {
     "name": "stderr",
     "output_type": "stream",
     "text": [
      "C:\\Users\\HP\\AppData\\Local\\Temp\\ipykernel_816\\4083687735.py:137: FutureWarning: The frame.append method is deprecated and will be removed from pandas in a future version. Use pandas.concat instead.\n",
      "  movies = movies.append(row_data, ignore_index=True)\n",
      "C:\\Users\\HP\\AppData\\Local\\Temp\\ipykernel_816\\4083687735.py:137: FutureWarning: The frame.append method is deprecated and will be removed from pandas in a future version. Use pandas.concat instead.\n",
      "  movies = movies.append(row_data, ignore_index=True)\n",
      "C:\\Users\\HP\\AppData\\Local\\Temp\\ipykernel_816\\4083687735.py:137: FutureWarning: The frame.append method is deprecated and will be removed from pandas in a future version. Use pandas.concat instead.\n",
      "  movies = movies.append(row_data, ignore_index=True)\n"
     ]
    },
    {
     "name": "stdout",
     "output_type": "stream",
     "text": [
      "Age restrictions not found\n",
      "Runtime not found\n",
      "Ratings not found\n"
     ]
    },
    {
     "name": "stderr",
     "output_type": "stream",
     "text": [
      "C:\\Users\\HP\\AppData\\Local\\Temp\\ipykernel_816\\4083687735.py:137: FutureWarning: The frame.append method is deprecated and will be removed from pandas in a future version. Use pandas.concat instead.\n",
      "  movies = movies.append(row_data, ignore_index=True)\n",
      "C:\\Users\\HP\\AppData\\Local\\Temp\\ipykernel_816\\4083687735.py:137: FutureWarning: The frame.append method is deprecated and will be removed from pandas in a future version. Use pandas.concat instead.\n",
      "  movies = movies.append(row_data, ignore_index=True)\n",
      "C:\\Users\\HP\\AppData\\Local\\Temp\\ipykernel_816\\4083687735.py:137: FutureWarning: The frame.append method is deprecated and will be removed from pandas in a future version. Use pandas.concat instead.\n",
      "  movies = movies.append(row_data, ignore_index=True)\n",
      "C:\\Users\\HP\\AppData\\Local\\Temp\\ipykernel_816\\4083687735.py:137: FutureWarning: The frame.append method is deprecated and will be removed from pandas in a future version. Use pandas.concat instead.\n",
      "  movies = movies.append(row_data, ignore_index=True)\n",
      "C:\\Users\\HP\\AppData\\Local\\Temp\\ipykernel_816\\4083687735.py:137: FutureWarning: The frame.append method is deprecated and will be removed from pandas in a future version. Use pandas.concat instead.\n",
      "  movies = movies.append(row_data, ignore_index=True)\n",
      "C:\\Users\\HP\\AppData\\Local\\Temp\\ipykernel_816\\4083687735.py:137: FutureWarning: The frame.append method is deprecated and will be removed from pandas in a future version. Use pandas.concat instead.\n",
      "  movies = movies.append(row_data, ignore_index=True)\n",
      "C:\\Users\\HP\\AppData\\Local\\Temp\\ipykernel_816\\4083687735.py:137: FutureWarning: The frame.append method is deprecated and will be removed from pandas in a future version. Use pandas.concat instead.\n",
      "  movies = movies.append(row_data, ignore_index=True)\n"
     ]
    },
    {
     "name": "stdout",
     "output_type": "stream",
     "text": [
      "Age restrictions not found\n",
      "Runtime not found\n",
      "Ratings not found\n"
     ]
    },
    {
     "name": "stderr",
     "output_type": "stream",
     "text": [
      "C:\\Users\\HP\\AppData\\Local\\Temp\\ipykernel_816\\4083687735.py:137: FutureWarning: The frame.append method is deprecated and will be removed from pandas in a future version. Use pandas.concat instead.\n",
      "  movies = movies.append(row_data, ignore_index=True)\n",
      "C:\\Users\\HP\\AppData\\Local\\Temp\\ipykernel_816\\4083687735.py:137: FutureWarning: The frame.append method is deprecated and will be removed from pandas in a future version. Use pandas.concat instead.\n",
      "  movies = movies.append(row_data, ignore_index=True)\n",
      "C:\\Users\\HP\\AppData\\Local\\Temp\\ipykernel_816\\4083687735.py:137: FutureWarning: The frame.append method is deprecated and will be removed from pandas in a future version. Use pandas.concat instead.\n",
      "  movies = movies.append(row_data, ignore_index=True)\n",
      "C:\\Users\\HP\\AppData\\Local\\Temp\\ipykernel_816\\4083687735.py:137: FutureWarning: The frame.append method is deprecated and will be removed from pandas in a future version. Use pandas.concat instead.\n",
      "  movies = movies.append(row_data, ignore_index=True)\n",
      "C:\\Users\\HP\\AppData\\Local\\Temp\\ipykernel_816\\4083687735.py:137: FutureWarning: The frame.append method is deprecated and will be removed from pandas in a future version. Use pandas.concat instead.\n",
      "  movies = movies.append(row_data, ignore_index=True)\n",
      "C:\\Users\\HP\\AppData\\Local\\Temp\\ipykernel_816\\4083687735.py:137: FutureWarning: The frame.append method is deprecated and will be removed from pandas in a future version. Use pandas.concat instead.\n",
      "  movies = movies.append(row_data, ignore_index=True)\n",
      "C:\\Users\\HP\\AppData\\Local\\Temp\\ipykernel_816\\4083687735.py:137: FutureWarning: The frame.append method is deprecated and will be removed from pandas in a future version. Use pandas.concat instead.\n",
      "  movies = movies.append(row_data, ignore_index=True)\n",
      "C:\\Users\\HP\\AppData\\Local\\Temp\\ipykernel_816\\4083687735.py:137: FutureWarning: The frame.append method is deprecated and will be removed from pandas in a future version. Use pandas.concat instead.\n",
      "  movies = movies.append(row_data, ignore_index=True)\n",
      "C:\\Users\\HP\\AppData\\Local\\Temp\\ipykernel_816\\4083687735.py:137: FutureWarning: The frame.append method is deprecated and will be removed from pandas in a future version. Use pandas.concat instead.\n",
      "  movies = movies.append(row_data, ignore_index=True)\n",
      "C:\\Users\\HP\\AppData\\Local\\Temp\\ipykernel_816\\4083687735.py:137: FutureWarning: The frame.append method is deprecated and will be removed from pandas in a future version. Use pandas.concat instead.\n",
      "  movies = movies.append(row_data, ignore_index=True)\n",
      "C:\\Users\\HP\\AppData\\Local\\Temp\\ipykernel_816\\4083687735.py:137: FutureWarning: The frame.append method is deprecated and will be removed from pandas in a future version. Use pandas.concat instead.\n",
      "  movies = movies.append(row_data, ignore_index=True)\n",
      "C:\\Users\\HP\\AppData\\Local\\Temp\\ipykernel_816\\4083687735.py:137: FutureWarning: The frame.append method is deprecated and will be removed from pandas in a future version. Use pandas.concat instead.\n",
      "  movies = movies.append(row_data, ignore_index=True)\n",
      "C:\\Users\\HP\\AppData\\Local\\Temp\\ipykernel_816\\4083687735.py:137: FutureWarning: The frame.append method is deprecated and will be removed from pandas in a future version. Use pandas.concat instead.\n",
      "  movies = movies.append(row_data, ignore_index=True)\n",
      "C:\\Users\\HP\\AppData\\Local\\Temp\\ipykernel_816\\4083687735.py:137: FutureWarning: The frame.append method is deprecated and will be removed from pandas in a future version. Use pandas.concat instead.\n",
      "  movies = movies.append(row_data, ignore_index=True)\n",
      "C:\\Users\\HP\\AppData\\Local\\Temp\\ipykernel_816\\4083687735.py:137: FutureWarning: The frame.append method is deprecated and will be removed from pandas in a future version. Use pandas.concat instead.\n",
      "  movies = movies.append(row_data, ignore_index=True)\n",
      "C:\\Users\\HP\\AppData\\Local\\Temp\\ipykernel_816\\4083687735.py:137: FutureWarning: The frame.append method is deprecated and will be removed from pandas in a future version. Use pandas.concat instead.\n",
      "  movies = movies.append(row_data, ignore_index=True)\n",
      "C:\\Users\\HP\\AppData\\Local\\Temp\\ipykernel_816\\4083687735.py:137: FutureWarning: The frame.append method is deprecated and will be removed from pandas in a future version. Use pandas.concat instead.\n",
      "  movies = movies.append(row_data, ignore_index=True)\n",
      "C:\\Users\\HP\\AppData\\Local\\Temp\\ipykernel_816\\4083687735.py:137: FutureWarning: The frame.append method is deprecated and will be removed from pandas in a future version. Use pandas.concat instead.\n",
      "  movies = movies.append(row_data, ignore_index=True)\n",
      "C:\\Users\\HP\\AppData\\Local\\Temp\\ipykernel_816\\4083687735.py:137: FutureWarning: The frame.append method is deprecated and will be removed from pandas in a future version. Use pandas.concat instead.\n",
      "  movies = movies.append(row_data, ignore_index=True)\n",
      "C:\\Users\\HP\\AppData\\Local\\Temp\\ipykernel_816\\4083687735.py:137: FutureWarning: The frame.append method is deprecated and will be removed from pandas in a future version. Use pandas.concat instead.\n",
      "  movies = movies.append(row_data, ignore_index=True)\n",
      "C:\\Users\\HP\\AppData\\Local\\Temp\\ipykernel_816\\4083687735.py:137: FutureWarning: The frame.append method is deprecated and will be removed from pandas in a future version. Use pandas.concat instead.\n",
      "  movies = movies.append(row_data, ignore_index=True)\n",
      "C:\\Users\\HP\\AppData\\Local\\Temp\\ipykernel_816\\4083687735.py:137: FutureWarning: The frame.append method is deprecated and will be removed from pandas in a future version. Use pandas.concat instead.\n",
      "  movies = movies.append(row_data, ignore_index=True)\n",
      "C:\\Users\\HP\\AppData\\Local\\Temp\\ipykernel_816\\4083687735.py:137: FutureWarning: The frame.append method is deprecated and will be removed from pandas in a future version. Use pandas.concat instead.\n",
      "  movies = movies.append(row_data, ignore_index=True)\n",
      "C:\\Users\\HP\\AppData\\Local\\Temp\\ipykernel_816\\4083687735.py:137: FutureWarning: The frame.append method is deprecated and will be removed from pandas in a future version. Use pandas.concat instead.\n",
      "  movies = movies.append(row_data, ignore_index=True)\n",
      "C:\\Users\\HP\\AppData\\Local\\Temp\\ipykernel_816\\4083687735.py:137: FutureWarning: The frame.append method is deprecated and will be removed from pandas in a future version. Use pandas.concat instead.\n",
      "  movies = movies.append(row_data, ignore_index=True)\n"
     ]
    },
    {
     "name": "stdout",
     "output_type": "stream",
     "text": [
      "Age restrictions not found\n",
      "Runtime not found\n",
      "Ratings not found\n"
     ]
    },
    {
     "name": "stderr",
     "output_type": "stream",
     "text": [
      "C:\\Users\\HP\\AppData\\Local\\Temp\\ipykernel_816\\4083687735.py:137: FutureWarning: The frame.append method is deprecated and will be removed from pandas in a future version. Use pandas.concat instead.\n",
      "  movies = movies.append(row_data, ignore_index=True)\n",
      "C:\\Users\\HP\\AppData\\Local\\Temp\\ipykernel_816\\4083687735.py:137: FutureWarning: The frame.append method is deprecated and will be removed from pandas in a future version. Use pandas.concat instead.\n",
      "  movies = movies.append(row_data, ignore_index=True)\n",
      "C:\\Users\\HP\\AppData\\Local\\Temp\\ipykernel_816\\4083687735.py:137: FutureWarning: The frame.append method is deprecated and will be removed from pandas in a future version. Use pandas.concat instead.\n",
      "  movies = movies.append(row_data, ignore_index=True)\n",
      "C:\\Users\\HP\\AppData\\Local\\Temp\\ipykernel_816\\4083687735.py:137: FutureWarning: The frame.append method is deprecated and will be removed from pandas in a future version. Use pandas.concat instead.\n",
      "  movies = movies.append(row_data, ignore_index=True)\n",
      "C:\\Users\\HP\\AppData\\Local\\Temp\\ipykernel_816\\4083687735.py:137: FutureWarning: The frame.append method is deprecated and will be removed from pandas in a future version. Use pandas.concat instead.\n",
      "  movies = movies.append(row_data, ignore_index=True)\n",
      "C:\\Users\\HP\\AppData\\Local\\Temp\\ipykernel_816\\4083687735.py:137: FutureWarning: The frame.append method is deprecated and will be removed from pandas in a future version. Use pandas.concat instead.\n",
      "  movies = movies.append(row_data, ignore_index=True)\n",
      "C:\\Users\\HP\\AppData\\Local\\Temp\\ipykernel_816\\4083687735.py:137: FutureWarning: The frame.append method is deprecated and will be removed from pandas in a future version. Use pandas.concat instead.\n",
      "  movies = movies.append(row_data, ignore_index=True)\n",
      "C:\\Users\\HP\\AppData\\Local\\Temp\\ipykernel_816\\4083687735.py:137: FutureWarning: The frame.append method is deprecated and will be removed from pandas in a future version. Use pandas.concat instead.\n",
      "  movies = movies.append(row_data, ignore_index=True)\n",
      "C:\\Users\\HP\\AppData\\Local\\Temp\\ipykernel_816\\4083687735.py:137: FutureWarning: The frame.append method is deprecated and will be removed from pandas in a future version. Use pandas.concat instead.\n",
      "  movies = movies.append(row_data, ignore_index=True)\n",
      "C:\\Users\\HP\\AppData\\Local\\Temp\\ipykernel_816\\4083687735.py:137: FutureWarning: The frame.append method is deprecated and will be removed from pandas in a future version. Use pandas.concat instead.\n",
      "  movies = movies.append(row_data, ignore_index=True)\n",
      "C:\\Users\\HP\\AppData\\Local\\Temp\\ipykernel_816\\4083687735.py:137: FutureWarning: The frame.append method is deprecated and will be removed from pandas in a future version. Use pandas.concat instead.\n",
      "  movies = movies.append(row_data, ignore_index=True)\n",
      "C:\\Users\\HP\\AppData\\Local\\Temp\\ipykernel_816\\4083687735.py:137: FutureWarning: The frame.append method is deprecated and will be removed from pandas in a future version. Use pandas.concat instead.\n",
      "  movies = movies.append(row_data, ignore_index=True)\n",
      "C:\\Users\\HP\\AppData\\Local\\Temp\\ipykernel_816\\4083687735.py:137: FutureWarning: The frame.append method is deprecated and will be removed from pandas in a future version. Use pandas.concat instead.\n",
      "  movies = movies.append(row_data, ignore_index=True)\n",
      "C:\\Users\\HP\\AppData\\Local\\Temp\\ipykernel_816\\4083687735.py:137: FutureWarning: The frame.append method is deprecated and will be removed from pandas in a future version. Use pandas.concat instead.\n",
      "  movies = movies.append(row_data, ignore_index=True)\n",
      "C:\\Users\\HP\\AppData\\Local\\Temp\\ipykernel_816\\4083687735.py:137: FutureWarning: The frame.append method is deprecated and will be removed from pandas in a future version. Use pandas.concat instead.\n",
      "  movies = movies.append(row_data, ignore_index=True)\n",
      "C:\\Users\\HP\\AppData\\Local\\Temp\\ipykernel_816\\4083687735.py:137: FutureWarning: The frame.append method is deprecated and will be removed from pandas in a future version. Use pandas.concat instead.\n",
      "  movies = movies.append(row_data, ignore_index=True)\n"
     ]
    },
    {
     "name": "stdout",
     "output_type": "stream",
     "text": [
      "                                                Title  Year Age Restrictions  \\\n",
      "0   The Hunger Games: The Ballad of Songbirds & Sn...  2023            PG-13   \n",
      "1   The Hunger Games: The Ballad of Songbirds & Sn...  2023            PG-13   \n",
      "2                                             Tiger 3  2023             None   \n",
      "3                                          Madame Web  2024             None   \n",
      "4                             Five Nights at Freddy's  2023            PG-13   \n",
      "..                                                ...   ...              ...   \n",
      "94            Dungeons & Dragons: Honor Among Thieves  2023            PG-13   \n",
      "95                                 The Breakfast Club  1985                R   \n",
      "96                             The Exorcist: Believer  2023                R   \n",
      "97                                          Gone Girl  2014                R   \n",
      "98                                            The 355  2022            PG-13   \n",
      "\n",
      "   Run Time                       Genres  \\\n",
      "0    2h 37m     Action\\nAdventure\\nDrama   \n",
      "1    2h 37m     Action\\nAdventure\\nDrama   \n",
      "2      None  Action\\nAdventure\\nThriller   \n",
      "3      None    Action\\nAdventure\\nSci-Fi   \n",
      "4    1h 49m    Horror\\nMystery\\nThriller   \n",
      "..      ...                          ...   \n",
      "94   2h 14m    Action\\nAdventure\\nComedy   \n",
      "95   1h 37m                Comedy\\nDrama   \n",
      "96   1h 51m                       Horror   \n",
      "97   2h 29m     Drama\\nMystery\\nThriller   \n",
      "98    2h 2m             Action\\nThriller   \n",
      "\n",
      "                                                 Plot Ratings  \\\n",
      "0   Coriolanus Snow mentors and develops feelings ...     7.2   \n",
      "1   Coriolanus Snow mentors and develops feelings ...     7.2   \n",
      "2   Tiger and Zoya are back - to save the country ...     7.7   \n",
      "3   Madame Web tells the standalone origin story o...    None   \n",
      "4   A troubled security guard begins working at Fr...     5.5   \n",
      "..                                                ...     ...   \n",
      "94  A charming thief and a band of unlikely advent...     7.3   \n",
      "95  Five high school students meet in Saturday det...     7.8   \n",
      "96  When two girls disappear into the woods and re...     4.9   \n",
      "97  With his wife's disappearance having become th...     8.1   \n",
      "98  When a top-secret weapon falls into mercenary ...     5.6   \n",
      "\n",
      "                                Director  \\\n",
      "0                       Francis Lawrence   \n",
      "1                       Francis Lawrence   \n",
      "2                         Maneesh Sharma   \n",
      "3                          S.J. Clarkson   \n",
      "4                             Emma Tammi   \n",
      "..                                   ...   \n",
      "94  John Francis DaleyJonathan Goldstein   \n",
      "95                           John Hughes   \n",
      "96                    David Gordon Green   \n",
      "97                         David Fincher   \n",
      "98                         Simon Kinberg   \n",
      "\n",
      "                                              Writers  \\\n",
      "0         Michael LesslieMichael ArndtSuzanne Collins   \n",
      "1         Michael LesslieMichael ArndtSuzanne Collins   \n",
      "2       Shridhar RaghavanAnckur ChaudhryAditya Chopra   \n",
      "3               Claire ParkerS.J. ClarksonKerem Sanga   \n",
      "4               Scott CawthonSeth CuddebackEmma Tammi   \n",
      "..                                                ...   \n",
      "94  Jonathan GoldsteinJohn Francis DaleyMichael Gilio   \n",
      "95                                        John Hughes   \n",
      "96         Peter SattlerDavid Gordon GreenScott Teems   \n",
      "97                                      Gillian Flynn   \n",
      "98                        Theresa RebeckSimon Kinberg   \n",
      "\n",
      "                                               Actors  \n",
      "0                   Rachel ZeglerTom BlythViola Davis  \n",
      "1                   Rachel ZeglerTom BlythViola Davis  \n",
      "2                Salman KhanKatrina KaifEmraan Hashmi  \n",
      "3               Claire ParkerS.J. ClarksonKerem Sanga  \n",
      "4               Scott CawthonSeth CuddebackEmma Tammi  \n",
      "..                                                ...  \n",
      "94  Jonathan GoldsteinJohn Francis DaleyMichael Gilio  \n",
      "95            Emilio EstevezJudd NelsonMolly Ringwald  \n",
      "96         Peter SattlerDavid Gordon GreenScott Teems  \n",
      "97                                      Gillian Flynn  \n",
      "98                        Theresa RebeckSimon Kinberg  \n",
      "\n",
      "[99 rows x 10 columns]\n"
     ]
    }
   ],
   "source": [
    "from selenium import webdriver\n",
    "from selenium.webdriver.common.by import By\n",
    "from selenium.webdriver.chrome.service import Service as ChromeService\n",
    "from webdriver_manager.chrome import ChromeDriverManager\n",
    "from selenium.common.exceptions import NoSuchElementException\n",
    "import time\n",
    "from selenium.webdriver.common.action_chains import ActionChains\n",
    "from selenium.webdriver.common.keys import Keys\n",
    "import pandas as pd\n",
    "from selenium.webdriver.support.ui import WebDriverWait\n",
    "\n",
    "def extract_movie_info(driver):\n",
    "    title = None\n",
    "    year = None\n",
    "    age_restriction = None\n",
    "    runtime = None\n",
    "    genres = None\n",
    "    plot = None\n",
    "    rating = None\n",
    "    director = None\n",
    "    writers = None\n",
    "    actors = None\n",
    "    \n",
    "    try:\n",
    "        title = driver.find_element(By.CSS_SELECTOR, '#__next > main > div > section.ipc-page-background.ipc-page-background--base.sc-304f99f6-0.fSJiHR > section > div:nth-child(4) > section > section > div.sc-e226b0e3-3.dwkouE > div.sc-9aa2061f-0.cyMUeu > h1 > span').text\n",
    "    except NoSuchElementException:\n",
    "        print(\"Title not found\")\n",
    "        \n",
    "    try:\n",
    "        year = driver.find_element(By.CSS_SELECTOR, '#__next > main > div > section.ipc-page-background.ipc-page-background--base.sc-304f99f6-0.fSJiHR > section > div:nth-child(4) > section > section > div.sc-e226b0e3-3.dwkouE > div.sc-9aa2061f-0.cyMUeu > ul > li:nth-child(1) > a').text\n",
    "    except NoSuchElementException:\n",
    "        print(\"Year not found\")   \n",
    "        \n",
    "    try:\n",
    "        age_restriction = driver.find_element(By.CSS_SELECTOR, '#__next > main > div > section.ipc-page-background.ipc-page-background--base.sc-304f99f6-0.fSJiHR > section > div:nth-child(4) > section > section > div.sc-e226b0e3-3.dwkouE > div.sc-9aa2061f-0.cyMUeu > ul > li:nth-child(2) > a').text\n",
    "    except NoSuchElementException:\n",
    "        print(\"Age restrictions not found\")   \n",
    "        \n",
    "    try:\n",
    "        runtime = driver.find_element(By.CSS_SELECTOR, '#__next > main > div > section.ipc-page-background.ipc-page-background--base.sc-304f99f6-0.fSJiHR > section > div:nth-child(4) > section > section > div.sc-e226b0e3-3.dwkouE > div.sc-9aa2061f-0.cyMUeu > ul > li:nth-child(3)').text\n",
    "    except NoSuchElementException:\n",
    "        print(\"Runtime not found\")\n",
    "    \n",
    "    try:\n",
    "        genres = driver.find_element(By.CSS_SELECTOR, '#__next > main > div > section.ipc-page-background.ipc-page-background--base.sc-304f99f6-0.fSJiHR > section > div:nth-child(4) > section > section > div.sc-e226b0e3-4.dEqUUl > div.sc-e226b0e3-6.CUzkx > div.sc-e226b0e3-10.hbBxmX > section > div.ipc-chip-list--baseAlt.ipc-chip-list > div.ipc-chip-list__scroller').text\n",
    "    except NoSuchElementException:\n",
    "        print(\"Genres not found\")\n",
    "        \n",
    "    try:\n",
    "        plot = driver.find_element(By.CSS_SELECTOR, '#__next > main > div > section.ipc-page-background.ipc-page-background--base.sc-304f99f6-0.fSJiHR > section > div:nth-child(4) > section > section > div.sc-e226b0e3-4.dEqUUl > div.sc-e226b0e3-6.CUzkx > div.sc-e226b0e3-10.hbBxmX > section > p > span.sc-466bb6c-1.dWufeH').text\n",
    "    except NoSuchElementException:\n",
    "        print(\"Plot not found\")\n",
    "        \n",
    "    try:\n",
    "        rating = driver.find_element(By.CSS_SELECTOR, '#__next > main > div > section.ipc-page-background.ipc-page-background--base.sc-304f99f6-0.fSJiHR > section > div:nth-child(4) > section > section > div.sc-e226b0e3-3.dwkouE > div.sc-3a4309f8-0.bjXIAP.sc-9aa2061f-1.foKegm > div > div:nth-child(1) > a > span > div > div.sc-bde20123-0.dLwiNw > div.sc-bde20123-2.cdQqzc > span.sc-bde20123-1.cMEQkK').text\n",
    "    except NoSuchElementException:\n",
    "        print(\"Ratings not found\")\n",
    "\n",
    "    try:\n",
    "        director = driver.find_element(By.CSS_SELECTOR, '#__next > main > div > section.ipc-page-background.ipc-page-background--base.sc-304f99f6-0.fSJiHR > section > div:nth-child(4) > section > section > div.sc-e226b0e3-4.dEqUUl > div.sc-e226b0e3-6.CUzkx > div.sc-e226b0e3-10.hbBxmX > section > div.sc-9aa2061f-3.iRxAxS > div > ul > li:nth-child(1) > div').text\n",
    "    except NoSuchElementException:\n",
    "        print(\"Director not found\")    \n",
    "    \n",
    "    try:\n",
    "        writers = driver.find_element(By.CSS_SELECTOR, '#__next > main > div > section.ipc-page-background.ipc-page-background--base.sc-304f99f6-0.fSJiHR > section > div:nth-child(4) > section > section > div.sc-e226b0e3-4.dEqUUl > div.sc-e226b0e3-6.CUzkx > div.sc-e226b0e3-10.hbBxmX > section > div.sc-9aa2061f-3.iRxAxS > div > ul > li:nth-child(2) > div').text\n",
    "    except NoSuchElementException:\n",
    "        print(\"Writers not found\")  \n",
    "    \n",
    "    try:\n",
    "        actors = driver.find_element(By.CSS_SELECTOR, '#__next > main > div > section.ipc-page-background.ipc-page-background--base.sc-304f99f6-0.fSJiHR > section > div:nth-child(4) > section > section > div.sc-e226b0e3-4.dEqUUl > div.sc-e226b0e3-6.CUzkx > div.sc-e226b0e3-10.hbBxmX > section > div.sc-9aa2061f-3.iRxAxS > div > ul > li.ipc-metadata-list__item.ipc-metadata-list-item--link > div').text\n",
    "    except NoSuchElementException:\n",
    "        print(\"Actors not found\")\n",
    "    \n",
    "    return {\n",
    "        \"Title\": title,\n",
    "        \"Year\": year,\n",
    "        \"Age Restrictions\": age_restriction,\n",
    "        \"Run Time\": runtime,\n",
    "        \"Genres\": genres,\n",
    "        \"Plot\": plot,\n",
    "        \"Ratings\": rating,\n",
    "        \"Director\": director,\n",
    "        \"Writers\": writers,\n",
    "        \"Actors\": actors\n",
    "    }\n",
    "\n",
    "driver = webdriver.Chrome(service=ChromeService(ChromeDriverManager().install()))\n",
    "\n",
    "driver.get('https://www.imdb.com/chart/moviemeter/')  \n",
    "\n",
    "# Find all movie elements on the page\n",
    "movie_elements = driver.find_elements(By.CLASS_NAME, 'ipc-lockup-overlay__screen')\n",
    "\n",
    "# Create an empty DataFrame with the specified columns\n",
    "columns = [\"Title\", \"Year\", \"Age Restrictions\", \"Run Time\", \"Genres\", \"Plot\", \"Ratings\", \"Director\", \"Writers\", \"Actors\"]\n",
    "movies = pd.DataFrame(columns=columns)\n",
    "\n",
    "# Counter for tracking the number of movies processed\n",
    "movie_counter = 0\n",
    "\n",
    "# Iterate through each movie element\n",
    "for movie_element in movie_elements:\n",
    "    # Check if we have processed 100 movies\n",
    "    if movie_counter >= 99:\n",
    "        break\n",
    "    \n",
    "    # Get the movie title\n",
    "    title = movie_element.text\n",
    "    \n",
    "    # Scroll into view the current movie element\n",
    "    driver.execute_script(\"arguments[0].scrollIntoView();\", movie_element)\n",
    "    \n",
    "    # Use ActionChains to perform a click on the movie element, opening in a new tab\n",
    "    ActionChains(driver).key_down(Keys.CONTROL).click(movie_element).key_up(Keys.CONTROL).perform()\n",
    "\n",
    "    # Wait for the new tab to be opened\n",
    "    WebDriverWait(driver, 10).until(lambda d: len(d.window_handles) > 1)\n",
    "\n",
    "    # Switch to the new tab\n",
    "    driver.switch_to.window(driver.window_handles[1])\n",
    "\n",
    "    # Extract information for the current movie\n",
    "    movie_info = extract_movie_info(driver)\n",
    "\n",
    "    # Close the tab\n",
    "    driver.close()\n",
    "\n",
    "    # Switch back to the initial tab\n",
    "    driver.switch_to.window(driver.window_handles[0])\n",
    "\n",
    "    # Wait for a short time to allow the page to settle\n",
    "    time.sleep(2)\n",
    "\n",
    "    # Append the movie info to the DataFrame\n",
    "    if movie_info:\n",
    "        row_data = pd.Series(movie_info)\n",
    "        movies = movies.append(row_data, ignore_index=True)\n",
    "    \n",
    "    # Increment the movie counter\n",
    "    movie_counter += 1\n",
    "\n",
    "# Close the browser\n",
    "driver.quit()\n",
    "\n",
    "# Display the DataFrame\n",
    "print(movies)"
   ]
  },
  {
   "cell_type": "code",
   "execution_count": 60,
   "id": "4f47e17b",
   "metadata": {},
   "outputs": [
    {
     "data": {
      "text/html": [
       "<div>\n",
       "<style scoped>\n",
       "    .dataframe tbody tr th:only-of-type {\n",
       "        vertical-align: middle;\n",
       "    }\n",
       "\n",
       "    .dataframe tbody tr th {\n",
       "        vertical-align: top;\n",
       "    }\n",
       "\n",
       "    .dataframe thead th {\n",
       "        text-align: right;\n",
       "    }\n",
       "</style>\n",
       "<table border=\"1\" class=\"dataframe\">\n",
       "  <thead>\n",
       "    <tr style=\"text-align: right;\">\n",
       "      <th></th>\n",
       "      <th>Title</th>\n",
       "      <th>Year</th>\n",
       "      <th>Age Restrictions</th>\n",
       "      <th>Run Time</th>\n",
       "      <th>Genres</th>\n",
       "      <th>Plot</th>\n",
       "      <th>Ratings</th>\n",
       "      <th>Director</th>\n",
       "      <th>Writers</th>\n",
       "      <th>Actors</th>\n",
       "    </tr>\n",
       "  </thead>\n",
       "  <tbody>\n",
       "    <tr>\n",
       "      <th>0</th>\n",
       "      <td>The Hunger Games: The Ballad of Songbirds &amp; Sn...</td>\n",
       "      <td>2023</td>\n",
       "      <td>PG-13</td>\n",
       "      <td>2h 37m</td>\n",
       "      <td>Action\\nAdventure\\nDrama</td>\n",
       "      <td>Coriolanus Snow mentors and develops feelings ...</td>\n",
       "      <td>7.2</td>\n",
       "      <td>Francis Lawrence</td>\n",
       "      <td>Michael LesslieMichael ArndtSuzanne Collins</td>\n",
       "      <td>Rachel ZeglerTom BlythViola Davis</td>\n",
       "    </tr>\n",
       "    <tr>\n",
       "      <th>1</th>\n",
       "      <td>The Hunger Games: The Ballad of Songbirds &amp; Sn...</td>\n",
       "      <td>2023</td>\n",
       "      <td>PG-13</td>\n",
       "      <td>2h 37m</td>\n",
       "      <td>Action\\nAdventure\\nDrama</td>\n",
       "      <td>Coriolanus Snow mentors and develops feelings ...</td>\n",
       "      <td>7.2</td>\n",
       "      <td>Francis Lawrence</td>\n",
       "      <td>Michael LesslieMichael ArndtSuzanne Collins</td>\n",
       "      <td>Rachel ZeglerTom BlythViola Davis</td>\n",
       "    </tr>\n",
       "    <tr>\n",
       "      <th>2</th>\n",
       "      <td>Tiger 3</td>\n",
       "      <td>2023</td>\n",
       "      <td>None</td>\n",
       "      <td>None</td>\n",
       "      <td>Action\\nAdventure\\nThriller</td>\n",
       "      <td>Tiger and Zoya are back - to save the country ...</td>\n",
       "      <td>7.7</td>\n",
       "      <td>Maneesh Sharma</td>\n",
       "      <td>Shridhar RaghavanAnckur ChaudhryAditya Chopra</td>\n",
       "      <td>Salman KhanKatrina KaifEmraan Hashmi</td>\n",
       "    </tr>\n",
       "    <tr>\n",
       "      <th>3</th>\n",
       "      <td>Madame Web</td>\n",
       "      <td>2024</td>\n",
       "      <td>None</td>\n",
       "      <td>None</td>\n",
       "      <td>Action\\nAdventure\\nSci-Fi</td>\n",
       "      <td>Madame Web tells the standalone origin story o...</td>\n",
       "      <td>None</td>\n",
       "      <td>S.J. Clarkson</td>\n",
       "      <td>Claire ParkerS.J. ClarksonKerem Sanga</td>\n",
       "      <td>Claire ParkerS.J. ClarksonKerem Sanga</td>\n",
       "    </tr>\n",
       "    <tr>\n",
       "      <th>4</th>\n",
       "      <td>Five Nights at Freddy's</td>\n",
       "      <td>2023</td>\n",
       "      <td>PG-13</td>\n",
       "      <td>1h 49m</td>\n",
       "      <td>Horror\\nMystery\\nThriller</td>\n",
       "      <td>A troubled security guard begins working at Fr...</td>\n",
       "      <td>5.5</td>\n",
       "      <td>Emma Tammi</td>\n",
       "      <td>Scott CawthonSeth CuddebackEmma Tammi</td>\n",
       "      <td>Scott CawthonSeth CuddebackEmma Tammi</td>\n",
       "    </tr>\n",
       "    <tr>\n",
       "      <th>...</th>\n",
       "      <td>...</td>\n",
       "      <td>...</td>\n",
       "      <td>...</td>\n",
       "      <td>...</td>\n",
       "      <td>...</td>\n",
       "      <td>...</td>\n",
       "      <td>...</td>\n",
       "      <td>...</td>\n",
       "      <td>...</td>\n",
       "      <td>...</td>\n",
       "    </tr>\n",
       "    <tr>\n",
       "      <th>94</th>\n",
       "      <td>Dungeons &amp; Dragons: Honor Among Thieves</td>\n",
       "      <td>2023</td>\n",
       "      <td>PG-13</td>\n",
       "      <td>2h 14m</td>\n",
       "      <td>Action\\nAdventure\\nComedy</td>\n",
       "      <td>A charming thief and a band of unlikely advent...</td>\n",
       "      <td>7.3</td>\n",
       "      <td>John Francis DaleyJonathan Goldstein</td>\n",
       "      <td>Jonathan GoldsteinJohn Francis DaleyMichael Gilio</td>\n",
       "      <td>Jonathan GoldsteinJohn Francis DaleyMichael Gilio</td>\n",
       "    </tr>\n",
       "    <tr>\n",
       "      <th>95</th>\n",
       "      <td>The Breakfast Club</td>\n",
       "      <td>1985</td>\n",
       "      <td>R</td>\n",
       "      <td>1h 37m</td>\n",
       "      <td>Comedy\\nDrama</td>\n",
       "      <td>Five high school students meet in Saturday det...</td>\n",
       "      <td>7.8</td>\n",
       "      <td>John Hughes</td>\n",
       "      <td>John Hughes</td>\n",
       "      <td>Emilio EstevezJudd NelsonMolly Ringwald</td>\n",
       "    </tr>\n",
       "    <tr>\n",
       "      <th>96</th>\n",
       "      <td>The Exorcist: Believer</td>\n",
       "      <td>2023</td>\n",
       "      <td>R</td>\n",
       "      <td>1h 51m</td>\n",
       "      <td>Horror</td>\n",
       "      <td>When two girls disappear into the woods and re...</td>\n",
       "      <td>4.9</td>\n",
       "      <td>David Gordon Green</td>\n",
       "      <td>Peter SattlerDavid Gordon GreenScott Teems</td>\n",
       "      <td>Peter SattlerDavid Gordon GreenScott Teems</td>\n",
       "    </tr>\n",
       "    <tr>\n",
       "      <th>97</th>\n",
       "      <td>Gone Girl</td>\n",
       "      <td>2014</td>\n",
       "      <td>R</td>\n",
       "      <td>2h 29m</td>\n",
       "      <td>Drama\\nMystery\\nThriller</td>\n",
       "      <td>With his wife's disappearance having become th...</td>\n",
       "      <td>8.1</td>\n",
       "      <td>David Fincher</td>\n",
       "      <td>Gillian Flynn</td>\n",
       "      <td>Gillian Flynn</td>\n",
       "    </tr>\n",
       "    <tr>\n",
       "      <th>98</th>\n",
       "      <td>The 355</td>\n",
       "      <td>2022</td>\n",
       "      <td>PG-13</td>\n",
       "      <td>2h 2m</td>\n",
       "      <td>Action\\nThriller</td>\n",
       "      <td>When a top-secret weapon falls into mercenary ...</td>\n",
       "      <td>5.6</td>\n",
       "      <td>Simon Kinberg</td>\n",
       "      <td>Theresa RebeckSimon Kinberg</td>\n",
       "      <td>Theresa RebeckSimon Kinberg</td>\n",
       "    </tr>\n",
       "  </tbody>\n",
       "</table>\n",
       "<p>99 rows × 10 columns</p>\n",
       "</div>"
      ],
      "text/plain": [
       "                                                Title  Year Age Restrictions  \\\n",
       "0   The Hunger Games: The Ballad of Songbirds & Sn...  2023            PG-13   \n",
       "1   The Hunger Games: The Ballad of Songbirds & Sn...  2023            PG-13   \n",
       "2                                             Tiger 3  2023             None   \n",
       "3                                          Madame Web  2024             None   \n",
       "4                             Five Nights at Freddy's  2023            PG-13   \n",
       "..                                                ...   ...              ...   \n",
       "94            Dungeons & Dragons: Honor Among Thieves  2023            PG-13   \n",
       "95                                 The Breakfast Club  1985                R   \n",
       "96                             The Exorcist: Believer  2023                R   \n",
       "97                                          Gone Girl  2014                R   \n",
       "98                                            The 355  2022            PG-13   \n",
       "\n",
       "   Run Time                       Genres  \\\n",
       "0    2h 37m     Action\\nAdventure\\nDrama   \n",
       "1    2h 37m     Action\\nAdventure\\nDrama   \n",
       "2      None  Action\\nAdventure\\nThriller   \n",
       "3      None    Action\\nAdventure\\nSci-Fi   \n",
       "4    1h 49m    Horror\\nMystery\\nThriller   \n",
       "..      ...                          ...   \n",
       "94   2h 14m    Action\\nAdventure\\nComedy   \n",
       "95   1h 37m                Comedy\\nDrama   \n",
       "96   1h 51m                       Horror   \n",
       "97   2h 29m     Drama\\nMystery\\nThriller   \n",
       "98    2h 2m             Action\\nThriller   \n",
       "\n",
       "                                                 Plot Ratings  \\\n",
       "0   Coriolanus Snow mentors and develops feelings ...     7.2   \n",
       "1   Coriolanus Snow mentors and develops feelings ...     7.2   \n",
       "2   Tiger and Zoya are back - to save the country ...     7.7   \n",
       "3   Madame Web tells the standalone origin story o...    None   \n",
       "4   A troubled security guard begins working at Fr...     5.5   \n",
       "..                                                ...     ...   \n",
       "94  A charming thief and a band of unlikely advent...     7.3   \n",
       "95  Five high school students meet in Saturday det...     7.8   \n",
       "96  When two girls disappear into the woods and re...     4.9   \n",
       "97  With his wife's disappearance having become th...     8.1   \n",
       "98  When a top-secret weapon falls into mercenary ...     5.6   \n",
       "\n",
       "                                Director  \\\n",
       "0                       Francis Lawrence   \n",
       "1                       Francis Lawrence   \n",
       "2                         Maneesh Sharma   \n",
       "3                          S.J. Clarkson   \n",
       "4                             Emma Tammi   \n",
       "..                                   ...   \n",
       "94  John Francis DaleyJonathan Goldstein   \n",
       "95                           John Hughes   \n",
       "96                    David Gordon Green   \n",
       "97                         David Fincher   \n",
       "98                         Simon Kinberg   \n",
       "\n",
       "                                              Writers  \\\n",
       "0         Michael LesslieMichael ArndtSuzanne Collins   \n",
       "1         Michael LesslieMichael ArndtSuzanne Collins   \n",
       "2       Shridhar RaghavanAnckur ChaudhryAditya Chopra   \n",
       "3               Claire ParkerS.J. ClarksonKerem Sanga   \n",
       "4               Scott CawthonSeth CuddebackEmma Tammi   \n",
       "..                                                ...   \n",
       "94  Jonathan GoldsteinJohn Francis DaleyMichael Gilio   \n",
       "95                                        John Hughes   \n",
       "96         Peter SattlerDavid Gordon GreenScott Teems   \n",
       "97                                      Gillian Flynn   \n",
       "98                        Theresa RebeckSimon Kinberg   \n",
       "\n",
       "                                               Actors  \n",
       "0                   Rachel ZeglerTom BlythViola Davis  \n",
       "1                   Rachel ZeglerTom BlythViola Davis  \n",
       "2                Salman KhanKatrina KaifEmraan Hashmi  \n",
       "3               Claire ParkerS.J. ClarksonKerem Sanga  \n",
       "4               Scott CawthonSeth CuddebackEmma Tammi  \n",
       "..                                                ...  \n",
       "94  Jonathan GoldsteinJohn Francis DaleyMichael Gilio  \n",
       "95            Emilio EstevezJudd NelsonMolly Ringwald  \n",
       "96         Peter SattlerDavid Gordon GreenScott Teems  \n",
       "97                                      Gillian Flynn  \n",
       "98                        Theresa RebeckSimon Kinberg  \n",
       "\n",
       "[99 rows x 10 columns]"
      ]
     },
     "execution_count": 60,
     "metadata": {},
     "output_type": "execute_result"
    }
   ],
   "source": [
    "movies"
   ]
  },
  {
   "cell_type": "code",
   "execution_count": 64,
   "id": "541ec027",
   "metadata": {},
   "outputs": [],
   "source": [
    "movies.to_csv('imbd_movie_scraped_data.csv', index=False)\n",
    "movies['Genres'] = movies['Genres'].str.replace('\\n', ' ')\n"
   ]
  },
  {
   "cell_type": "markdown",
   "id": "8ff2ab93",
   "metadata": {},
   "source": [
    "Subsequently, the program will prompt the user to specify their preferences for:\n",
    "\n",
    "1) Genre\n",
    "2) Minimum Rating\n",
    "3) Maximum Runtime\n",
    "4) Age Restriction\n",
    "\n",
    "It will then filter the dataframe accordingly and select a movie for recommendation. The recommendation will display the movie title, writer, director, and trivia. If there are no movies that match the user's preferences, the program will recommend any movie from the original dataframe."
   ]
  },
  {
   "cell_type": "code",
   "execution_count": 67,
   "id": "1ced83d3",
   "metadata": {},
   "outputs": [
    {
     "name": "stdout",
     "output_type": "stream",
     "text": [
      "Enter preferred genre: Action \n",
      "Enter minimum rating (0-10): 6\n",
      "Enter maximum runtime in minutes: 145\n",
      "Enter preferred age restriction: R\n",
      "\n",
      "Recommendation:\n"
     ]
    },
    {
     "data": {
      "text/html": [
       "<div>\n",
       "<style scoped>\n",
       "    .dataframe tbody tr th:only-of-type {\n",
       "        vertical-align: middle;\n",
       "    }\n",
       "\n",
       "    .dataframe tbody tr th {\n",
       "        vertical-align: top;\n",
       "    }\n",
       "\n",
       "    .dataframe thead th {\n",
       "        text-align: right;\n",
       "    }\n",
       "</style>\n",
       "<table border=\"1\" class=\"dataframe\">\n",
       "  <thead>\n",
       "    <tr style=\"text-align: right;\">\n",
       "      <th></th>\n",
       "      <th>Title</th>\n",
       "      <th>Year</th>\n",
       "      <th>Age Restrictions</th>\n",
       "      <th>Run Time</th>\n",
       "      <th>Genres</th>\n",
       "      <th>Plot</th>\n",
       "      <th>Ratings</th>\n",
       "      <th>Director</th>\n",
       "      <th>Writers</th>\n",
       "      <th>Actors</th>\n",
       "      <th>Runtime (minutes)</th>\n",
       "    </tr>\n",
       "  </thead>\n",
       "  <tbody>\n",
       "    <tr>\n",
       "      <th>47</th>\n",
       "      <td>The Equalizer 3</td>\n",
       "      <td>2023</td>\n",
       "      <td>R</td>\n",
       "      <td>1h 49m</td>\n",
       "      <td>Action Crime Thriller</td>\n",
       "      <td>Robert McCall finds himself at home in Souther...</td>\n",
       "      <td>6.9</td>\n",
       "      <td>Antoine Fuqua</td>\n",
       "      <td>Richard WenkMichael SloanRichard Lindheim</td>\n",
       "      <td>Denzel WashingtonDakota FanningEugenio Mastran...</td>\n",
       "      <td>109.0</td>\n",
       "    </tr>\n",
       "  </tbody>\n",
       "</table>\n",
       "</div>"
      ],
      "text/plain": [
       "              Title  Year Age Restrictions Run Time                 Genres  \\\n",
       "47  The Equalizer 3  2023                R   1h 49m  Action Crime Thriller   \n",
       "\n",
       "                                                 Plot Ratings       Director  \\\n",
       "47  Robert McCall finds himself at home in Souther...     6.9  Antoine Fuqua   \n",
       "\n",
       "                                      Writers  \\\n",
       "47  Richard WenkMichael SloanRichard Lindheim   \n",
       "\n",
       "                                               Actors  Runtime (minutes)  \n",
       "47  Denzel WashingtonDakota FanningEugenio Mastran...              109.0  "
      ]
     },
     "execution_count": 67,
     "metadata": {},
     "output_type": "execute_result"
    }
   ],
   "source": [
    "def runtime_to_minutes(runtime):\n",
    "    if pd.notna(runtime):\n",
    "        try:\n",
    "            parts = runtime.split(' ')\n",
    "            hours = int(parts[0].replace('h', '')) if 'h' in parts[0] else 0\n",
    "            minutes = int(parts[1].replace('m', '')) if 'm' in parts[1] else 0\n",
    "            return hours * 60 + minutes\n",
    "        except (ValueError, IndexError):\n",
    "            return None\n",
    "    else:\n",
    "        return None\n",
    "\n",
    "# Apply the runtime_to_minutes function to convert 'Run Time' to minutes\n",
    "movies['Runtime (minutes)'] = movies['Run Time'].apply(runtime_to_minutes)\n",
    "\n",
    "# User preferences\n",
    "genre_preference = input(\"Enter preferred genre: \")\n",
    "min_rating = float(input(\"Enter minimum rating (0-10): \"))\n",
    "max_runtime = int(input(\"Enter maximum runtime in minutes: \"))\n",
    "age_restriction_preference = input(\"Enter preferred age restriction: \")\n",
    "\n",
    "# Filter the DataFrame based on user preferences\n",
    "filtered_df = movies[\n",
    "    (movies['Genres'].str.contains(genre_preference, case=False)) &\n",
    "    (movies['Ratings'].astype(float) >= min_rating) &\n",
    "    (movies['Runtime (minutes)'] <= max_runtime) &\n",
    "    (movies['Age Restrictions'].str.contains(age_restriction_preference, case=False))\n",
    "]\n",
    "\n",
    "# Recommendation\n",
    "if not filtered_df.empty:\n",
    "    # Select a movie from the filtered DataFrame\n",
    "    recommended_movie = filtered_df.sample(1)\n",
    "\n",
    "    # Display the recommendation\n",
    "    print(\"\\nRecommendation:\")\n",
    "#     print(recommended_movie[['Title', 'Writers', 'Director', 'Plot']])\n",
    "else:\n",
    "    # If no movies match the preferences, recommend any movie from the original DataFrame\n",
    "    recommended_movie = df.sample(1)\n",
    "\n",
    "    # Display the recommendation\n",
    "    print(\"\\nNo movies match your preferences. Here's a random recommendation:\")\n",
    "#     print(recommended_movie[['Title', 'Writers', 'Director', 'Plot']])\n",
    "df1=pd.DataFrame(recommended_movie)\n",
    "df1"
   ]
  },
  {
   "cell_type": "markdown",
   "id": "c2658fcf",
   "metadata": {},
   "source": [
    "# Question 3\n",
    "In Question 3, your objective is to find the best available product on Daraz, specifically the Redmi Note 12 smartphone. You will scrape important information from the products listed on the first five pages, which includes the Product Title, Rating, Free Shipping Status, Daraz Mall status, Seller Rating and the Ship on Time score.\n",
    "\n",
    "To find the best available product, apply the following scoring criteria to each product:\n",
    "\n",
    "1) The price will be the base score.\n",
    "2) Award an additional 5,000 points to products with the \"Daraz Mall\" status.\n",
    "3) Grant an extra 1,000 points to products with free shipping.\n",
    "4) Add 10000*((0.4 * (Product Rating / 5)) + (0.4 * (Seller Rating / 100)) + (0.2 * (Shipping Performance / 100)) to the score"
   ]
  },
  {
   "cell_type": "code",
   "execution_count": 150,
   "id": "cabacee4",
   "metadata": {},
   "outputs": [
    {
     "name": "stdout",
     "output_type": "stream",
     "text": [
      "Extracting data from page 1...\n",
      "Not on Daraz Mall\n"
     ]
    },
    {
     "name": "stderr",
     "output_type": "stream",
     "text": [
      "C:\\Users\\HP\\AppData\\Local\\Temp\\ipykernel_9820\\3712828569.py:108: FutureWarning: The frame.append method is deprecated and will be removed from pandas in a future version. Use pandas.concat instead.\n",
      "  df = df.append(row_data, ignore_index=True)\n"
     ]
    },
    {
     "name": "stdout",
     "output_type": "stream",
     "text": [
      "Not on Daraz Mall\n"
     ]
    },
    {
     "name": "stderr",
     "output_type": "stream",
     "text": [
      "C:\\Users\\HP\\AppData\\Local\\Temp\\ipykernel_9820\\3712828569.py:108: FutureWarning: The frame.append method is deprecated and will be removed from pandas in a future version. Use pandas.concat instead.\n",
      "  df = df.append(row_data, ignore_index=True)\n"
     ]
    },
    {
     "name": "stdout",
     "output_type": "stream",
     "text": [
      "Not on Daraz Mall\n"
     ]
    },
    {
     "name": "stderr",
     "output_type": "stream",
     "text": [
      "C:\\Users\\HP\\AppData\\Local\\Temp\\ipykernel_9820\\3712828569.py:108: FutureWarning: The frame.append method is deprecated and will be removed from pandas in a future version. Use pandas.concat instead.\n",
      "  df = df.append(row_data, ignore_index=True)\n"
     ]
    },
    {
     "name": "stdout",
     "output_type": "stream",
     "text": [
      "Not on Daraz Mall\n"
     ]
    },
    {
     "name": "stderr",
     "output_type": "stream",
     "text": [
      "C:\\Users\\HP\\AppData\\Local\\Temp\\ipykernel_9820\\3712828569.py:108: FutureWarning: The frame.append method is deprecated and will be removed from pandas in a future version. Use pandas.concat instead.\n",
      "  df = df.append(row_data, ignore_index=True)\n"
     ]
    },
    {
     "name": "stdout",
     "output_type": "stream",
     "text": [
      "Not on Daraz Mall\n"
     ]
    },
    {
     "name": "stderr",
     "output_type": "stream",
     "text": [
      "C:\\Users\\HP\\AppData\\Local\\Temp\\ipykernel_9820\\3712828569.py:108: FutureWarning: The frame.append method is deprecated and will be removed from pandas in a future version. Use pandas.concat instead.\n",
      "  df = df.append(row_data, ignore_index=True)\n"
     ]
    },
    {
     "name": "stdout",
     "output_type": "stream",
     "text": [
      "Not on Daraz Mall\n"
     ]
    },
    {
     "name": "stderr",
     "output_type": "stream",
     "text": [
      "C:\\Users\\HP\\AppData\\Local\\Temp\\ipykernel_9820\\3712828569.py:108: FutureWarning: The frame.append method is deprecated and will be removed from pandas in a future version. Use pandas.concat instead.\n",
      "  df = df.append(row_data, ignore_index=True)\n"
     ]
    },
    {
     "name": "stdout",
     "output_type": "stream",
     "text": [
      "Not on Daraz Mall\n"
     ]
    },
    {
     "name": "stderr",
     "output_type": "stream",
     "text": [
      "C:\\Users\\HP\\AppData\\Local\\Temp\\ipykernel_9820\\3712828569.py:108: FutureWarning: The frame.append method is deprecated and will be removed from pandas in a future version. Use pandas.concat instead.\n",
      "  df = df.append(row_data, ignore_index=True)\n"
     ]
    },
    {
     "name": "stdout",
     "output_type": "stream",
     "text": [
      "Not on Daraz Mall\n"
     ]
    },
    {
     "name": "stderr",
     "output_type": "stream",
     "text": [
      "C:\\Users\\HP\\AppData\\Local\\Temp\\ipykernel_9820\\3712828569.py:108: FutureWarning: The frame.append method is deprecated and will be removed from pandas in a future version. Use pandas.concat instead.\n",
      "  df = df.append(row_data, ignore_index=True)\n",
      "C:\\Users\\HP\\AppData\\Local\\Temp\\ipykernel_9820\\3712828569.py:108: FutureWarning: The frame.append method is deprecated and will be removed from pandas in a future version. Use pandas.concat instead.\n",
      "  df = df.append(row_data, ignore_index=True)\n"
     ]
    },
    {
     "name": "stdout",
     "output_type": "stream",
     "text": [
      "Not on Daraz Mall\n"
     ]
    },
    {
     "name": "stderr",
     "output_type": "stream",
     "text": [
      "C:\\Users\\HP\\AppData\\Local\\Temp\\ipykernel_9820\\3712828569.py:108: FutureWarning: The frame.append method is deprecated and will be removed from pandas in a future version. Use pandas.concat instead.\n",
      "  df = df.append(row_data, ignore_index=True)\n"
     ]
    },
    {
     "name": "stdout",
     "output_type": "stream",
     "text": [
      "Seller rating not found\n",
      "Not on Daraz Mall\n"
     ]
    },
    {
     "name": "stderr",
     "output_type": "stream",
     "text": [
      "C:\\Users\\HP\\AppData\\Local\\Temp\\ipykernel_9820\\3712828569.py:108: FutureWarning: The frame.append method is deprecated and will be removed from pandas in a future version. Use pandas.concat instead.\n",
      "  df = df.append(row_data, ignore_index=True)\n"
     ]
    },
    {
     "name": "stdout",
     "output_type": "stream",
     "text": [
      "Not on Daraz Mall\n"
     ]
    },
    {
     "name": "stderr",
     "output_type": "stream",
     "text": [
      "C:\\Users\\HP\\AppData\\Local\\Temp\\ipykernel_9820\\3712828569.py:108: FutureWarning: The frame.append method is deprecated and will be removed from pandas in a future version. Use pandas.concat instead.\n",
      "  df = df.append(row_data, ignore_index=True)\n"
     ]
    },
    {
     "name": "stdout",
     "output_type": "stream",
     "text": [
      "Not on Daraz Mall\n"
     ]
    },
    {
     "name": "stderr",
     "output_type": "stream",
     "text": [
      "C:\\Users\\HP\\AppData\\Local\\Temp\\ipykernel_9820\\3712828569.py:108: FutureWarning: The frame.append method is deprecated and will be removed from pandas in a future version. Use pandas.concat instead.\n",
      "  df = df.append(row_data, ignore_index=True)\n"
     ]
    },
    {
     "name": "stdout",
     "output_type": "stream",
     "text": [
      "Not on Daraz Mall\n"
     ]
    },
    {
     "name": "stderr",
     "output_type": "stream",
     "text": [
      "C:\\Users\\HP\\AppData\\Local\\Temp\\ipykernel_9820\\3712828569.py:108: FutureWarning: The frame.append method is deprecated and will be removed from pandas in a future version. Use pandas.concat instead.\n",
      "  df = df.append(row_data, ignore_index=True)\n"
     ]
    },
    {
     "name": "stdout",
     "output_type": "stream",
     "text": [
      "Not on Daraz Mall\n"
     ]
    },
    {
     "name": "stderr",
     "output_type": "stream",
     "text": [
      "C:\\Users\\HP\\AppData\\Local\\Temp\\ipykernel_9820\\3712828569.py:108: FutureWarning: The frame.append method is deprecated and will be removed from pandas in a future version. Use pandas.concat instead.\n",
      "  df = df.append(row_data, ignore_index=True)\n"
     ]
    },
    {
     "name": "stdout",
     "output_type": "stream",
     "text": [
      "Not on Daraz Mall\n"
     ]
    },
    {
     "name": "stderr",
     "output_type": "stream",
     "text": [
      "C:\\Users\\HP\\AppData\\Local\\Temp\\ipykernel_9820\\3712828569.py:108: FutureWarning: The frame.append method is deprecated and will be removed from pandas in a future version. Use pandas.concat instead.\n",
      "  df = df.append(row_data, ignore_index=True)\n"
     ]
    },
    {
     "name": "stdout",
     "output_type": "stream",
     "text": [
      "Not on Daraz Mall\n"
     ]
    },
    {
     "name": "stderr",
     "output_type": "stream",
     "text": [
      "C:\\Users\\HP\\AppData\\Local\\Temp\\ipykernel_9820\\3712828569.py:108: FutureWarning: The frame.append method is deprecated and will be removed from pandas in a future version. Use pandas.concat instead.\n",
      "  df = df.append(row_data, ignore_index=True)\n"
     ]
    },
    {
     "name": "stdout",
     "output_type": "stream",
     "text": [
      "Not on Daraz Mall\n"
     ]
    },
    {
     "name": "stderr",
     "output_type": "stream",
     "text": [
      "C:\\Users\\HP\\AppData\\Local\\Temp\\ipykernel_9820\\3712828569.py:108: FutureWarning: The frame.append method is deprecated and will be removed from pandas in a future version. Use pandas.concat instead.\n",
      "  df = df.append(row_data, ignore_index=True)\n"
     ]
    },
    {
     "name": "stdout",
     "output_type": "stream",
     "text": [
      "Not on Daraz Mall\n"
     ]
    },
    {
     "name": "stderr",
     "output_type": "stream",
     "text": [
      "C:\\Users\\HP\\AppData\\Local\\Temp\\ipykernel_9820\\3712828569.py:108: FutureWarning: The frame.append method is deprecated and will be removed from pandas in a future version. Use pandas.concat instead.\n",
      "  df = df.append(row_data, ignore_index=True)\n"
     ]
    },
    {
     "name": "stdout",
     "output_type": "stream",
     "text": [
      "Not on Daraz Mall\n"
     ]
    },
    {
     "name": "stderr",
     "output_type": "stream",
     "text": [
      "C:\\Users\\HP\\AppData\\Local\\Temp\\ipykernel_9820\\3712828569.py:108: FutureWarning: The frame.append method is deprecated and will be removed from pandas in a future version. Use pandas.concat instead.\n",
      "  df = df.append(row_data, ignore_index=True)\n"
     ]
    },
    {
     "name": "stdout",
     "output_type": "stream",
     "text": [
      "Not on Daraz Mall\n"
     ]
    },
    {
     "name": "stderr",
     "output_type": "stream",
     "text": [
      "C:\\Users\\HP\\AppData\\Local\\Temp\\ipykernel_9820\\3712828569.py:108: FutureWarning: The frame.append method is deprecated and will be removed from pandas in a future version. Use pandas.concat instead.\n",
      "  df = df.append(row_data, ignore_index=True)\n"
     ]
    },
    {
     "name": "stdout",
     "output_type": "stream",
     "text": [
      "Not on Daraz Mall\n"
     ]
    },
    {
     "name": "stderr",
     "output_type": "stream",
     "text": [
      "C:\\Users\\HP\\AppData\\Local\\Temp\\ipykernel_9820\\3712828569.py:108: FutureWarning: The frame.append method is deprecated and will be removed from pandas in a future version. Use pandas.concat instead.\n",
      "  df = df.append(row_data, ignore_index=True)\n"
     ]
    },
    {
     "name": "stdout",
     "output_type": "stream",
     "text": [
      "Not on Daraz Mall\n"
     ]
    },
    {
     "name": "stderr",
     "output_type": "stream",
     "text": [
      "C:\\Users\\HP\\AppData\\Local\\Temp\\ipykernel_9820\\3712828569.py:108: FutureWarning: The frame.append method is deprecated and will be removed from pandas in a future version. Use pandas.concat instead.\n",
      "  df = df.append(row_data, ignore_index=True)\n"
     ]
    },
    {
     "name": "stdout",
     "output_type": "stream",
     "text": [
      "Not on Daraz Mall\n"
     ]
    },
    {
     "name": "stderr",
     "output_type": "stream",
     "text": [
      "C:\\Users\\HP\\AppData\\Local\\Temp\\ipykernel_9820\\3712828569.py:108: FutureWarning: The frame.append method is deprecated and will be removed from pandas in a future version. Use pandas.concat instead.\n",
      "  df = df.append(row_data, ignore_index=True)\n"
     ]
    },
    {
     "name": "stdout",
     "output_type": "stream",
     "text": [
      "Not on Daraz Mall\n"
     ]
    },
    {
     "name": "stderr",
     "output_type": "stream",
     "text": [
      "C:\\Users\\HP\\AppData\\Local\\Temp\\ipykernel_9820\\3712828569.py:108: FutureWarning: The frame.append method is deprecated and will be removed from pandas in a future version. Use pandas.concat instead.\n",
      "  df = df.append(row_data, ignore_index=True)\n"
     ]
    },
    {
     "name": "stdout",
     "output_type": "stream",
     "text": [
      "Not on Daraz Mall\n"
     ]
    },
    {
     "name": "stderr",
     "output_type": "stream",
     "text": [
      "C:\\Users\\HP\\AppData\\Local\\Temp\\ipykernel_9820\\3712828569.py:108: FutureWarning: The frame.append method is deprecated and will be removed from pandas in a future version. Use pandas.concat instead.\n",
      "  df = df.append(row_data, ignore_index=True)\n"
     ]
    },
    {
     "name": "stdout",
     "output_type": "stream",
     "text": [
      "Not on Daraz Mall\n"
     ]
    },
    {
     "name": "stderr",
     "output_type": "stream",
     "text": [
      "C:\\Users\\HP\\AppData\\Local\\Temp\\ipykernel_9820\\3712828569.py:108: FutureWarning: The frame.append method is deprecated and will be removed from pandas in a future version. Use pandas.concat instead.\n",
      "  df = df.append(row_data, ignore_index=True)\n"
     ]
    },
    {
     "name": "stdout",
     "output_type": "stream",
     "text": [
      "Not on Daraz Mall\n"
     ]
    },
    {
     "name": "stderr",
     "output_type": "stream",
     "text": [
      "C:\\Users\\HP\\AppData\\Local\\Temp\\ipykernel_9820\\3712828569.py:108: FutureWarning: The frame.append method is deprecated and will be removed from pandas in a future version. Use pandas.concat instead.\n",
      "  df = df.append(row_data, ignore_index=True)\n"
     ]
    },
    {
     "name": "stdout",
     "output_type": "stream",
     "text": [
      "Not on Daraz Mall\n"
     ]
    },
    {
     "name": "stderr",
     "output_type": "stream",
     "text": [
      "C:\\Users\\HP\\AppData\\Local\\Temp\\ipykernel_9820\\3712828569.py:108: FutureWarning: The frame.append method is deprecated and will be removed from pandas in a future version. Use pandas.concat instead.\n",
      "  df = df.append(row_data, ignore_index=True)\n"
     ]
    },
    {
     "name": "stdout",
     "output_type": "stream",
     "text": [
      "Not on Daraz Mall\n"
     ]
    },
    {
     "name": "stderr",
     "output_type": "stream",
     "text": [
      "C:\\Users\\HP\\AppData\\Local\\Temp\\ipykernel_9820\\3712828569.py:108: FutureWarning: The frame.append method is deprecated and will be removed from pandas in a future version. Use pandas.concat instead.\n",
      "  df = df.append(row_data, ignore_index=True)\n"
     ]
    },
    {
     "name": "stdout",
     "output_type": "stream",
     "text": [
      "Not on Daraz Mall\n"
     ]
    },
    {
     "name": "stderr",
     "output_type": "stream",
     "text": [
      "C:\\Users\\HP\\AppData\\Local\\Temp\\ipykernel_9820\\3712828569.py:108: FutureWarning: The frame.append method is deprecated and will be removed from pandas in a future version. Use pandas.concat instead.\n",
      "  df = df.append(row_data, ignore_index=True)\n"
     ]
    },
    {
     "name": "stdout",
     "output_type": "stream",
     "text": [
      "Not on Daraz Mall\n"
     ]
    },
    {
     "name": "stderr",
     "output_type": "stream",
     "text": [
      "C:\\Users\\HP\\AppData\\Local\\Temp\\ipykernel_9820\\3712828569.py:108: FutureWarning: The frame.append method is deprecated and will be removed from pandas in a future version. Use pandas.concat instead.\n",
      "  df = df.append(row_data, ignore_index=True)\n"
     ]
    },
    {
     "name": "stdout",
     "output_type": "stream",
     "text": [
      "Seller rating not found\n",
      "Not on Daraz Mall\n"
     ]
    },
    {
     "name": "stderr",
     "output_type": "stream",
     "text": [
      "C:\\Users\\HP\\AppData\\Local\\Temp\\ipykernel_9820\\3712828569.py:108: FutureWarning: The frame.append method is deprecated and will be removed from pandas in a future version. Use pandas.concat instead.\n",
      "  df = df.append(row_data, ignore_index=True)\n"
     ]
    },
    {
     "name": "stdout",
     "output_type": "stream",
     "text": [
      "Not on Daraz Mall\n"
     ]
    },
    {
     "name": "stderr",
     "output_type": "stream",
     "text": [
      "C:\\Users\\HP\\AppData\\Local\\Temp\\ipykernel_9820\\3712828569.py:108: FutureWarning: The frame.append method is deprecated and will be removed from pandas in a future version. Use pandas.concat instead.\n",
      "  df = df.append(row_data, ignore_index=True)\n",
      "C:\\Users\\HP\\AppData\\Local\\Temp\\ipykernel_9820\\3712828569.py:108: FutureWarning: The frame.append method is deprecated and will be removed from pandas in a future version. Use pandas.concat instead.\n",
      "  df = df.append(row_data, ignore_index=True)\n"
     ]
    },
    {
     "name": "stdout",
     "output_type": "stream",
     "text": [
      "Not on Daraz Mall\n"
     ]
    },
    {
     "name": "stderr",
     "output_type": "stream",
     "text": [
      "C:\\Users\\HP\\AppData\\Local\\Temp\\ipykernel_9820\\3712828569.py:108: FutureWarning: The frame.append method is deprecated and will be removed from pandas in a future version. Use pandas.concat instead.\n",
      "  df = df.append(row_data, ignore_index=True)\n"
     ]
    },
    {
     "name": "stdout",
     "output_type": "stream",
     "text": [
      "Not on Daraz Mall\n"
     ]
    },
    {
     "name": "stderr",
     "output_type": "stream",
     "text": [
      "C:\\Users\\HP\\AppData\\Local\\Temp\\ipykernel_9820\\3712828569.py:108: FutureWarning: The frame.append method is deprecated and will be removed from pandas in a future version. Use pandas.concat instead.\n",
      "  df = df.append(row_data, ignore_index=True)\n",
      "C:\\Users\\HP\\AppData\\Local\\Temp\\ipykernel_9820\\3712828569.py:108: FutureWarning: The frame.append method is deprecated and will be removed from pandas in a future version. Use pandas.concat instead.\n",
      "  df = df.append(row_data, ignore_index=True)\n"
     ]
    },
    {
     "name": "stdout",
     "output_type": "stream",
     "text": [
      "Seller rating not found\n",
      "Not on Daraz Mall\n"
     ]
    },
    {
     "name": "stderr",
     "output_type": "stream",
     "text": [
      "C:\\Users\\HP\\AppData\\Local\\Temp\\ipykernel_9820\\3712828569.py:108: FutureWarning: The frame.append method is deprecated and will be removed from pandas in a future version. Use pandas.concat instead.\n",
      "  df = df.append(row_data, ignore_index=True)\n",
      "C:\\Users\\HP\\AppData\\Local\\Temp\\ipykernel_9820\\3712828569.py:108: FutureWarning: The frame.append method is deprecated and will be removed from pandas in a future version. Use pandas.concat instead.\n",
      "  df = df.append(row_data, ignore_index=True)\n"
     ]
    },
    {
     "name": "stdout",
     "output_type": "stream",
     "text": [
      "Extracting data from page 2...\n",
      "Not on Daraz Mall\n"
     ]
    },
    {
     "name": "stderr",
     "output_type": "stream",
     "text": [
      "C:\\Users\\HP\\AppData\\Local\\Temp\\ipykernel_9820\\3712828569.py:108: FutureWarning: The frame.append method is deprecated and will be removed from pandas in a future version. Use pandas.concat instead.\n",
      "  df = df.append(row_data, ignore_index=True)\n"
     ]
    },
    {
     "name": "stdout",
     "output_type": "stream",
     "text": [
      "Not on Daraz Mall\n"
     ]
    },
    {
     "name": "stderr",
     "output_type": "stream",
     "text": [
      "C:\\Users\\HP\\AppData\\Local\\Temp\\ipykernel_9820\\3712828569.py:108: FutureWarning: The frame.append method is deprecated and will be removed from pandas in a future version. Use pandas.concat instead.\n",
      "  df = df.append(row_data, ignore_index=True)\n"
     ]
    },
    {
     "name": "stdout",
     "output_type": "stream",
     "text": [
      "Not on Daraz Mall\n"
     ]
    },
    {
     "name": "stderr",
     "output_type": "stream",
     "text": [
      "C:\\Users\\HP\\AppData\\Local\\Temp\\ipykernel_9820\\3712828569.py:108: FutureWarning: The frame.append method is deprecated and will be removed from pandas in a future version. Use pandas.concat instead.\n",
      "  df = df.append(row_data, ignore_index=True)\n"
     ]
    },
    {
     "name": "stdout",
     "output_type": "stream",
     "text": [
      "Not on Daraz Mall\n"
     ]
    },
    {
     "name": "stderr",
     "output_type": "stream",
     "text": [
      "C:\\Users\\HP\\AppData\\Local\\Temp\\ipykernel_9820\\3712828569.py:108: FutureWarning: The frame.append method is deprecated and will be removed from pandas in a future version. Use pandas.concat instead.\n",
      "  df = df.append(row_data, ignore_index=True)\n"
     ]
    },
    {
     "name": "stdout",
     "output_type": "stream",
     "text": [
      "Not on Daraz Mall\n"
     ]
    },
    {
     "name": "stderr",
     "output_type": "stream",
     "text": [
      "C:\\Users\\HP\\AppData\\Local\\Temp\\ipykernel_9820\\3712828569.py:108: FutureWarning: The frame.append method is deprecated and will be removed from pandas in a future version. Use pandas.concat instead.\n",
      "  df = df.append(row_data, ignore_index=True)\n"
     ]
    },
    {
     "name": "stdout",
     "output_type": "stream",
     "text": [
      "Not on Daraz Mall\n"
     ]
    },
    {
     "name": "stderr",
     "output_type": "stream",
     "text": [
      "C:\\Users\\HP\\AppData\\Local\\Temp\\ipykernel_9820\\3712828569.py:108: FutureWarning: The frame.append method is deprecated and will be removed from pandas in a future version. Use pandas.concat instead.\n",
      "  df = df.append(row_data, ignore_index=True)\n"
     ]
    },
    {
     "name": "stdout",
     "output_type": "stream",
     "text": [
      "Not on Daraz Mall\n"
     ]
    },
    {
     "name": "stderr",
     "output_type": "stream",
     "text": [
      "C:\\Users\\HP\\AppData\\Local\\Temp\\ipykernel_9820\\3712828569.py:108: FutureWarning: The frame.append method is deprecated and will be removed from pandas in a future version. Use pandas.concat instead.\n",
      "  df = df.append(row_data, ignore_index=True)\n"
     ]
    },
    {
     "name": "stdout",
     "output_type": "stream",
     "text": [
      "Not on Daraz Mall\n"
     ]
    },
    {
     "name": "stderr",
     "output_type": "stream",
     "text": [
      "C:\\Users\\HP\\AppData\\Local\\Temp\\ipykernel_9820\\3712828569.py:108: FutureWarning: The frame.append method is deprecated and will be removed from pandas in a future version. Use pandas.concat instead.\n",
      "  df = df.append(row_data, ignore_index=True)\n",
      "C:\\Users\\HP\\AppData\\Local\\Temp\\ipykernel_9820\\3712828569.py:108: FutureWarning: The frame.append method is deprecated and will be removed from pandas in a future version. Use pandas.concat instead.\n",
      "  df = df.append(row_data, ignore_index=True)\n"
     ]
    },
    {
     "name": "stdout",
     "output_type": "stream",
     "text": [
      "Not on Daraz Mall\n"
     ]
    },
    {
     "name": "stderr",
     "output_type": "stream",
     "text": [
      "C:\\Users\\HP\\AppData\\Local\\Temp\\ipykernel_9820\\3712828569.py:108: FutureWarning: The frame.append method is deprecated and will be removed from pandas in a future version. Use pandas.concat instead.\n",
      "  df = df.append(row_data, ignore_index=True)\n"
     ]
    },
    {
     "name": "stdout",
     "output_type": "stream",
     "text": [
      "Seller rating not found\n",
      "Not on Daraz Mall\n"
     ]
    },
    {
     "name": "stderr",
     "output_type": "stream",
     "text": [
      "C:\\Users\\HP\\AppData\\Local\\Temp\\ipykernel_9820\\3712828569.py:108: FutureWarning: The frame.append method is deprecated and will be removed from pandas in a future version. Use pandas.concat instead.\n",
      "  df = df.append(row_data, ignore_index=True)\n"
     ]
    },
    {
     "name": "stdout",
     "output_type": "stream",
     "text": [
      "Not on Daraz Mall\n"
     ]
    },
    {
     "name": "stderr",
     "output_type": "stream",
     "text": [
      "C:\\Users\\HP\\AppData\\Local\\Temp\\ipykernel_9820\\3712828569.py:108: FutureWarning: The frame.append method is deprecated and will be removed from pandas in a future version. Use pandas.concat instead.\n",
      "  df = df.append(row_data, ignore_index=True)\n"
     ]
    },
    {
     "name": "stdout",
     "output_type": "stream",
     "text": [
      "Not on Daraz Mall\n"
     ]
    },
    {
     "name": "stderr",
     "output_type": "stream",
     "text": [
      "C:\\Users\\HP\\AppData\\Local\\Temp\\ipykernel_9820\\3712828569.py:108: FutureWarning: The frame.append method is deprecated and will be removed from pandas in a future version. Use pandas.concat instead.\n",
      "  df = df.append(row_data, ignore_index=True)\n"
     ]
    },
    {
     "name": "stdout",
     "output_type": "stream",
     "text": [
      "Not on Daraz Mall\n"
     ]
    },
    {
     "name": "stderr",
     "output_type": "stream",
     "text": [
      "C:\\Users\\HP\\AppData\\Local\\Temp\\ipykernel_9820\\3712828569.py:108: FutureWarning: The frame.append method is deprecated and will be removed from pandas in a future version. Use pandas.concat instead.\n",
      "  df = df.append(row_data, ignore_index=True)\n"
     ]
    },
    {
     "name": "stdout",
     "output_type": "stream",
     "text": [
      "Not on Daraz Mall\n"
     ]
    },
    {
     "name": "stderr",
     "output_type": "stream",
     "text": [
      "C:\\Users\\HP\\AppData\\Local\\Temp\\ipykernel_9820\\3712828569.py:108: FutureWarning: The frame.append method is deprecated and will be removed from pandas in a future version. Use pandas.concat instead.\n",
      "  df = df.append(row_data, ignore_index=True)\n"
     ]
    },
    {
     "name": "stdout",
     "output_type": "stream",
     "text": [
      "Not on Daraz Mall\n"
     ]
    },
    {
     "name": "stderr",
     "output_type": "stream",
     "text": [
      "C:\\Users\\HP\\AppData\\Local\\Temp\\ipykernel_9820\\3712828569.py:108: FutureWarning: The frame.append method is deprecated and will be removed from pandas in a future version. Use pandas.concat instead.\n",
      "  df = df.append(row_data, ignore_index=True)\n"
     ]
    },
    {
     "name": "stdout",
     "output_type": "stream",
     "text": [
      "Not on Daraz Mall\n"
     ]
    },
    {
     "name": "stderr",
     "output_type": "stream",
     "text": [
      "C:\\Users\\HP\\AppData\\Local\\Temp\\ipykernel_9820\\3712828569.py:108: FutureWarning: The frame.append method is deprecated and will be removed from pandas in a future version. Use pandas.concat instead.\n",
      "  df = df.append(row_data, ignore_index=True)\n"
     ]
    },
    {
     "name": "stdout",
     "output_type": "stream",
     "text": [
      "Not on Daraz Mall\n"
     ]
    },
    {
     "name": "stderr",
     "output_type": "stream",
     "text": [
      "C:\\Users\\HP\\AppData\\Local\\Temp\\ipykernel_9820\\3712828569.py:108: FutureWarning: The frame.append method is deprecated and will be removed from pandas in a future version. Use pandas.concat instead.\n",
      "  df = df.append(row_data, ignore_index=True)\n"
     ]
    },
    {
     "name": "stdout",
     "output_type": "stream",
     "text": [
      "Not on Daraz Mall\n"
     ]
    },
    {
     "name": "stderr",
     "output_type": "stream",
     "text": [
      "C:\\Users\\HP\\AppData\\Local\\Temp\\ipykernel_9820\\3712828569.py:108: FutureWarning: The frame.append method is deprecated and will be removed from pandas in a future version. Use pandas.concat instead.\n",
      "  df = df.append(row_data, ignore_index=True)\n"
     ]
    },
    {
     "name": "stdout",
     "output_type": "stream",
     "text": [
      "Not on Daraz Mall\n"
     ]
    },
    {
     "name": "stderr",
     "output_type": "stream",
     "text": [
      "C:\\Users\\HP\\AppData\\Local\\Temp\\ipykernel_9820\\3712828569.py:108: FutureWarning: The frame.append method is deprecated and will be removed from pandas in a future version. Use pandas.concat instead.\n",
      "  df = df.append(row_data, ignore_index=True)\n"
     ]
    },
    {
     "name": "stdout",
     "output_type": "stream",
     "text": [
      "Not on Daraz Mall\n"
     ]
    },
    {
     "name": "stderr",
     "output_type": "stream",
     "text": [
      "C:\\Users\\HP\\AppData\\Local\\Temp\\ipykernel_9820\\3712828569.py:108: FutureWarning: The frame.append method is deprecated and will be removed from pandas in a future version. Use pandas.concat instead.\n",
      "  df = df.append(row_data, ignore_index=True)\n"
     ]
    },
    {
     "name": "stdout",
     "output_type": "stream",
     "text": [
      "Not on Daraz Mall\n"
     ]
    },
    {
     "name": "stderr",
     "output_type": "stream",
     "text": [
      "C:\\Users\\HP\\AppData\\Local\\Temp\\ipykernel_9820\\3712828569.py:108: FutureWarning: The frame.append method is deprecated and will be removed from pandas in a future version. Use pandas.concat instead.\n",
      "  df = df.append(row_data, ignore_index=True)\n"
     ]
    },
    {
     "name": "stdout",
     "output_type": "stream",
     "text": [
      "Not on Daraz Mall\n"
     ]
    },
    {
     "name": "stderr",
     "output_type": "stream",
     "text": [
      "C:\\Users\\HP\\AppData\\Local\\Temp\\ipykernel_9820\\3712828569.py:108: FutureWarning: The frame.append method is deprecated and will be removed from pandas in a future version. Use pandas.concat instead.\n",
      "  df = df.append(row_data, ignore_index=True)\n"
     ]
    },
    {
     "name": "stdout",
     "output_type": "stream",
     "text": [
      "Not on Daraz Mall\n"
     ]
    },
    {
     "name": "stderr",
     "output_type": "stream",
     "text": [
      "C:\\Users\\HP\\AppData\\Local\\Temp\\ipykernel_9820\\3712828569.py:108: FutureWarning: The frame.append method is deprecated and will be removed from pandas in a future version. Use pandas.concat instead.\n",
      "  df = df.append(row_data, ignore_index=True)\n"
     ]
    },
    {
     "name": "stdout",
     "output_type": "stream",
     "text": [
      "Not on Daraz Mall\n"
     ]
    },
    {
     "name": "stderr",
     "output_type": "stream",
     "text": [
      "C:\\Users\\HP\\AppData\\Local\\Temp\\ipykernel_9820\\3712828569.py:108: FutureWarning: The frame.append method is deprecated and will be removed from pandas in a future version. Use pandas.concat instead.\n",
      "  df = df.append(row_data, ignore_index=True)\n"
     ]
    },
    {
     "name": "stdout",
     "output_type": "stream",
     "text": [
      "Not on Daraz Mall\n"
     ]
    },
    {
     "name": "stderr",
     "output_type": "stream",
     "text": [
      "C:\\Users\\HP\\AppData\\Local\\Temp\\ipykernel_9820\\3712828569.py:108: FutureWarning: The frame.append method is deprecated and will be removed from pandas in a future version. Use pandas.concat instead.\n",
      "  df = df.append(row_data, ignore_index=True)\n"
     ]
    },
    {
     "name": "stdout",
     "output_type": "stream",
     "text": [
      "Not on Daraz Mall\n"
     ]
    },
    {
     "name": "stderr",
     "output_type": "stream",
     "text": [
      "C:\\Users\\HP\\AppData\\Local\\Temp\\ipykernel_9820\\3712828569.py:108: FutureWarning: The frame.append method is deprecated and will be removed from pandas in a future version. Use pandas.concat instead.\n",
      "  df = df.append(row_data, ignore_index=True)\n"
     ]
    },
    {
     "name": "stdout",
     "output_type": "stream",
     "text": [
      "Not on Daraz Mall\n"
     ]
    },
    {
     "name": "stderr",
     "output_type": "stream",
     "text": [
      "C:\\Users\\HP\\AppData\\Local\\Temp\\ipykernel_9820\\3712828569.py:108: FutureWarning: The frame.append method is deprecated and will be removed from pandas in a future version. Use pandas.concat instead.\n",
      "  df = df.append(row_data, ignore_index=True)\n"
     ]
    },
    {
     "name": "stdout",
     "output_type": "stream",
     "text": [
      "Not on Daraz Mall\n"
     ]
    },
    {
     "name": "stderr",
     "output_type": "stream",
     "text": [
      "C:\\Users\\HP\\AppData\\Local\\Temp\\ipykernel_9820\\3712828569.py:108: FutureWarning: The frame.append method is deprecated and will be removed from pandas in a future version. Use pandas.concat instead.\n",
      "  df = df.append(row_data, ignore_index=True)\n"
     ]
    },
    {
     "name": "stdout",
     "output_type": "stream",
     "text": [
      "Not on Daraz Mall\n"
     ]
    },
    {
     "name": "stderr",
     "output_type": "stream",
     "text": [
      "C:\\Users\\HP\\AppData\\Local\\Temp\\ipykernel_9820\\3712828569.py:108: FutureWarning: The frame.append method is deprecated and will be removed from pandas in a future version. Use pandas.concat instead.\n",
      "  df = df.append(row_data, ignore_index=True)\n"
     ]
    },
    {
     "name": "stdout",
     "output_type": "stream",
     "text": [
      "Not on Daraz Mall\n"
     ]
    },
    {
     "name": "stderr",
     "output_type": "stream",
     "text": [
      "C:\\Users\\HP\\AppData\\Local\\Temp\\ipykernel_9820\\3712828569.py:108: FutureWarning: The frame.append method is deprecated and will be removed from pandas in a future version. Use pandas.concat instead.\n",
      "  df = df.append(row_data, ignore_index=True)\n"
     ]
    },
    {
     "name": "stdout",
     "output_type": "stream",
     "text": [
      "Not on Daraz Mall\n"
     ]
    },
    {
     "name": "stderr",
     "output_type": "stream",
     "text": [
      "C:\\Users\\HP\\AppData\\Local\\Temp\\ipykernel_9820\\3712828569.py:108: FutureWarning: The frame.append method is deprecated and will be removed from pandas in a future version. Use pandas.concat instead.\n",
      "  df = df.append(row_data, ignore_index=True)\n"
     ]
    },
    {
     "name": "stdout",
     "output_type": "stream",
     "text": [
      "Seller rating not found\n",
      "Not on Daraz Mall\n"
     ]
    },
    {
     "name": "stderr",
     "output_type": "stream",
     "text": [
      "C:\\Users\\HP\\AppData\\Local\\Temp\\ipykernel_9820\\3712828569.py:108: FutureWarning: The frame.append method is deprecated and will be removed from pandas in a future version. Use pandas.concat instead.\n",
      "  df = df.append(row_data, ignore_index=True)\n"
     ]
    },
    {
     "name": "stdout",
     "output_type": "stream",
     "text": [
      "Not on Daraz Mall\n"
     ]
    },
    {
     "name": "stderr",
     "output_type": "stream",
     "text": [
      "C:\\Users\\HP\\AppData\\Local\\Temp\\ipykernel_9820\\3712828569.py:108: FutureWarning: The frame.append method is deprecated and will be removed from pandas in a future version. Use pandas.concat instead.\n",
      "  df = df.append(row_data, ignore_index=True)\n",
      "C:\\Users\\HP\\AppData\\Local\\Temp\\ipykernel_9820\\3712828569.py:108: FutureWarning: The frame.append method is deprecated and will be removed from pandas in a future version. Use pandas.concat instead.\n",
      "  df = df.append(row_data, ignore_index=True)\n"
     ]
    },
    {
     "name": "stdout",
     "output_type": "stream",
     "text": [
      "Not on Daraz Mall\n"
     ]
    },
    {
     "name": "stderr",
     "output_type": "stream",
     "text": [
      "C:\\Users\\HP\\AppData\\Local\\Temp\\ipykernel_9820\\3712828569.py:108: FutureWarning: The frame.append method is deprecated and will be removed from pandas in a future version. Use pandas.concat instead.\n",
      "  df = df.append(row_data, ignore_index=True)\n"
     ]
    },
    {
     "name": "stdout",
     "output_type": "stream",
     "text": [
      "Not on Daraz Mall\n"
     ]
    },
    {
     "name": "stderr",
     "output_type": "stream",
     "text": [
      "C:\\Users\\HP\\AppData\\Local\\Temp\\ipykernel_9820\\3712828569.py:108: FutureWarning: The frame.append method is deprecated and will be removed from pandas in a future version. Use pandas.concat instead.\n",
      "  df = df.append(row_data, ignore_index=True)\n",
      "C:\\Users\\HP\\AppData\\Local\\Temp\\ipykernel_9820\\3712828569.py:108: FutureWarning: The frame.append method is deprecated and will be removed from pandas in a future version. Use pandas.concat instead.\n",
      "  df = df.append(row_data, ignore_index=True)\n"
     ]
    },
    {
     "name": "stdout",
     "output_type": "stream",
     "text": [
      "Seller rating not found\n",
      "Not on Daraz Mall\n"
     ]
    },
    {
     "name": "stderr",
     "output_type": "stream",
     "text": [
      "C:\\Users\\HP\\AppData\\Local\\Temp\\ipykernel_9820\\3712828569.py:108: FutureWarning: The frame.append method is deprecated and will be removed from pandas in a future version. Use pandas.concat instead.\n",
      "  df = df.append(row_data, ignore_index=True)\n",
      "C:\\Users\\HP\\AppData\\Local\\Temp\\ipykernel_9820\\3712828569.py:108: FutureWarning: The frame.append method is deprecated and will be removed from pandas in a future version. Use pandas.concat instead.\n",
      "  df = df.append(row_data, ignore_index=True)\n"
     ]
    },
    {
     "name": "stdout",
     "output_type": "stream",
     "text": [
      "                                                Title       Price  \\\n",
      "0   Xiaomi Redmi Note 12 || 8GB Ram 128GB Rom || 5...  Rs. 51,499   \n",
      "1   Redmi Note 12 - 6.67\" Inch Display - 8GB RAM -...  Rs. 51,299   \n",
      "2   Xiaomi Redmi Note 12 Pro RAM 8 GB ROM 256 GB F...  Rs. 88,840   \n",
      "3   Xiaomi Redmi Note 12 Pro RAM 8 GB ROM 256 GB F...  Rs. 88,880   \n",
      "4   Xiaomi Redmi Note 12 - 8GB RAM 128GB/256GB ROM...  Rs. 53,999   \n",
      "..                                                ...         ...   \n",
      "75  Xiaomi Redmi Note 12 RAM 8 GB ROM 128 Front Ca...  Rs. 53,890   \n",
      "76  XIAOMI REDMI NOTE 12 8GB RAM 128GB ROM || 6.67...  Rs. 52,000   \n",
      "77  Redmi Note 12 (8GB-128GB) PTA Approved With Of...  Rs. 51,999   \n",
      "78  Redmi Note 12 8GB Ram 128GB Rom, Display Size ...  Rs. 50,999   \n",
      "79  Redmi Note 12 Pro (8GB-256GB) PTA Approved Wit...  Rs. 89,999   \n",
      "\n",
      "         Delivery                         SellerName SellerRating  ShipOnTime  \\\n",
      "0   Free Delivery              MOBILE INN 1655541586          91%         91%   \n",
      "1   Free Delivery                Shop-Tech (Karachi)          85%         85%   \n",
      "2   Free Delivery     Sid Sam Communication Khanewal          93%         93%   \n",
      "3   Free Delivery       Ali Communication (Khanewal)          96%         96%   \n",
      "4   Free Delivery       Kashif Electronics (Karachi)          89%         89%   \n",
      "..            ...                                ...          ...         ...   \n",
      "75  Free Delivery       Ali Communication (Khanewal)          96%         96%   \n",
      "76  Free Delivery  Bismillah Mobile Zone (BMZ) Daska          93%         93%   \n",
      "77  Free Delivery                             Xiaomi          93%         93%   \n",
      "78  Free Delivery                 Mashallah Trading.         None  New Seller   \n",
      "79  Free Delivery                             Xiaomi          93%         93%   \n",
      "\n",
      "   Daraz Mall Status Ratings  \n",
      "0              False     4.7  \n",
      "1              False     4.1  \n",
      "2              False     5.0  \n",
      "3              False     5.0  \n",
      "4              False     4.0  \n",
      "..               ...     ...  \n",
      "75             False     4.9  \n",
      "76             False     5.0  \n",
      "77              True     4.8  \n",
      "78             False       0  \n",
      "79              True     4.6  \n",
      "\n",
      "[80 rows x 8 columns]\n"
     ]
    }
   ],
   "source": [
    "from selenium import webdriver\n",
    "from selenium.webdriver.common.by import By\n",
    "from selenium.webdriver.chrome.service import Service as ChromeService\n",
    "from webdriver_manager.chrome import ChromeDriverManager\n",
    "\n",
    "driver = webdriver.Chrome(service=ChromeService(ChromeDriverManager().install()))\n",
    "\n",
    "def extract_product_info():\n",
    "    title_element = None\n",
    "    price_element = None\n",
    "    delivery_element = None\n",
    "    sellername_element = None\n",
    "    sellerrating_element = None\n",
    "    shipontime_element = None\n",
    "    daraz_status = None\n",
    "    rating_element= None\n",
    "\n",
    "    try:\n",
    "        title_element = driver.find_element(By.CSS_SELECTOR, '#module_product_title_1 > div > div > span').text\n",
    "    except NoSuchElementException:\n",
    "        print(\"Title not found\")\n",
    "\n",
    "\n",
    "        \n",
    "    try:\n",
    "        price_element = driver.find_element(By.CLASS_NAME, 'pdp-price').text.strip()\n",
    "    except NoSuchElementException:\n",
    "        print(\"Price not found\")\n",
    "\n",
    "    try:\n",
    "        delivery_element = driver.find_element(By.CSS_SELECTOR, '#module_seller_delivery .delivery-option-item__title span:nth-child(1)').text.strip()\n",
    "    except NoSuchElementException:\n",
    "        print(\"Delivery option not found\")\n",
    "\n",
    "    try:\n",
    "        sellername_element = driver.find_element(By.CLASS_NAME, 'pdp-link_theme_black.seller-name__detail-name').text.strip()\n",
    "    except NoSuchElementException:\n",
    "        print(\"Seller name not found\")\n",
    "\n",
    "    try:\n",
    "        sellerrating_element = driver.find_element(By.CLASS_NAME, 'seller-info-value.rating-positive').text\n",
    "    except NoSuchElementException:\n",
    "        print(\"Seller rating not found\")\n",
    "\n",
    "    try:\n",
    "        shipontime_element = driver.find_element(By.CLASS_NAME, 'seller-info-value').text\n",
    "    except NoSuchElementException:\n",
    "        print(\"Shipping on time information not found\")\n",
    "    \n",
    "    try:\n",
    "        daraz_element = driver.find_element(By.CLASS_NAME,'pdp-seller-badge')\n",
    "        daraz_status = True\n",
    "    except NoSuchElementException:\n",
    "        print(\"Not on Daraz Mall\")\n",
    "        daraz_status = False\n",
    "    \n",
    "    try:\n",
    "        driver.execute_script(\"window.scrollTo(0, 1600);\")\n",
    "        time.sleep(1)\n",
    "        rating_element=driver.find_element(By.CLASS_NAME,'score-average').text\n",
    "    except NoSuchElementException:\n",
    "        print(\"No rating for this product\")\n",
    "\n",
    "    return {\n",
    "        \"Title\": title_element,\n",
    "        \"Price\": price_element,\n",
    "        \"Delivery\": delivery_element,\n",
    "        \"SellerName\": sellername_element,\n",
    "        \"SellerRating\": sellerrating_element,\n",
    "        \"ShipOnTime\": shipontime_element,\n",
    "        \"Daraz Mall Status\": daraz_status,\n",
    "        \"Ratings\": rating_element,\n",
    "    }\n",
    "\n",
    "\n",
    "driver.get('https://www.daraz.pk/catalog/?q=Redmi+Note+12&_keyori=ss&from=input&spm=a2a0e.home.search.go.6a274076SFsBbd')\n",
    "\n",
    "product_elements = driver.find_elements(By.CLASS_NAME, 'gridItem--Yd0sa')\n",
    "\n",
    "columns = [\"Title\", \"Price\", \"Delivery\", \"SellerName\", \"SellerRating\", \"ShipOnTime\",\"Daraz Mall Status\",\"Ratings\"]\n",
    "df = pd.DataFrame(columns=columns)\n",
    "\n",
    "num_pages = 5\n",
    "\n",
    "\n",
    "for page in range(num_pages):\n",
    "    print(f\"Extracting data from page {page + 1}...\")\n",
    "    for index, product_element in enumerate(product_elements):\n",
    "        \n",
    "        product_url = product_element.find_element(By.TAG_NAME, 'a').get_attribute('href')\n",
    "\n",
    "        # Open the product URL in a new tab or window\n",
    "        driver.execute_script(\"window.open('');\")\n",
    "        driver.switch_to.window(driver.window_handles[1])\n",
    "        driver.get(product_url)\n",
    "\n",
    "        # Extract information for the current product\n",
    "        product_info = extract_product_info()\n",
    "\n",
    "        # Close the tab or window and switch back to the main page\n",
    "        driver.close()\n",
    "        driver.switch_to.window(driver.window_handles[0])\n",
    "\n",
    "        # Append the product info to the DataFrame\n",
    "        # Append the product info to the DataFrame\n",
    "        if product_info:\n",
    "            row_data = pd.Series(product_info)\n",
    "            df = df.append(row_data, ignore_index=True)\n",
    "\n",
    "\n",
    "    # Find and click the \"Next\" button to go to the next page\n",
    "    try:\n",
    "        next_button = driver.find_element(By.XPATH, '/html/body/div[3]/div/div[3]/div/div/div[1]/div[3]/div/div/ul/li[9]/a')\n",
    "        next_button.click()\n",
    "    except NoSuchElementException:\n",
    "        print(\"No next button found. Exiting.\")\n",
    "        break\n",
    "\n",
    "# Close the browser\n",
    "driver.quit()\n",
    "\n",
    "# Display the DataFrame\n",
    "print(df)"
   ]
  },
  {
   "cell_type": "code",
   "execution_count": 154,
   "id": "723e2295",
   "metadata": {},
   "outputs": [
    {
     "data": {
      "text/html": [
       "<div>\n",
       "<style scoped>\n",
       "    .dataframe tbody tr th:only-of-type {\n",
       "        vertical-align: middle;\n",
       "    }\n",
       "\n",
       "    .dataframe tbody tr th {\n",
       "        vertical-align: top;\n",
       "    }\n",
       "\n",
       "    .dataframe thead th {\n",
       "        text-align: right;\n",
       "    }\n",
       "</style>\n",
       "<table border=\"1\" class=\"dataframe\">\n",
       "  <thead>\n",
       "    <tr style=\"text-align: right;\">\n",
       "      <th></th>\n",
       "      <th>Title</th>\n",
       "      <th>Price</th>\n",
       "      <th>Delivery</th>\n",
       "      <th>SellerName</th>\n",
       "      <th>SellerRating</th>\n",
       "      <th>ShipOnTime</th>\n",
       "      <th>Daraz Mall Status</th>\n",
       "      <th>Ratings</th>\n",
       "    </tr>\n",
       "  </thead>\n",
       "  <tbody>\n",
       "    <tr>\n",
       "      <th>0</th>\n",
       "      <td>Xiaomi Redmi Note 12 || 8GB Ram 128GB Rom || 5...</td>\n",
       "      <td>Rs. 51,499</td>\n",
       "      <td>Free Delivery</td>\n",
       "      <td>MOBILE INN 1655541586</td>\n",
       "      <td>91%</td>\n",
       "      <td>91%</td>\n",
       "      <td>False</td>\n",
       "      <td>4.7</td>\n",
       "    </tr>\n",
       "    <tr>\n",
       "      <th>1</th>\n",
       "      <td>Redmi Note 12 - 6.67\" Inch Display - 8GB RAM -...</td>\n",
       "      <td>Rs. 51,299</td>\n",
       "      <td>Free Delivery</td>\n",
       "      <td>Shop-Tech (Karachi)</td>\n",
       "      <td>85%</td>\n",
       "      <td>85%</td>\n",
       "      <td>False</td>\n",
       "      <td>4.1</td>\n",
       "    </tr>\n",
       "    <tr>\n",
       "      <th>2</th>\n",
       "      <td>Xiaomi Redmi Note 12 Pro RAM 8 GB ROM 256 GB F...</td>\n",
       "      <td>Rs. 88,840</td>\n",
       "      <td>Free Delivery</td>\n",
       "      <td>Sid Sam Communication Khanewal</td>\n",
       "      <td>93%</td>\n",
       "      <td>93%</td>\n",
       "      <td>False</td>\n",
       "      <td>5.0</td>\n",
       "    </tr>\n",
       "    <tr>\n",
       "      <th>3</th>\n",
       "      <td>Xiaomi Redmi Note 12 Pro RAM 8 GB ROM 256 GB F...</td>\n",
       "      <td>Rs. 88,880</td>\n",
       "      <td>Free Delivery</td>\n",
       "      <td>Ali Communication (Khanewal)</td>\n",
       "      <td>96%</td>\n",
       "      <td>96%</td>\n",
       "      <td>False</td>\n",
       "      <td>5.0</td>\n",
       "    </tr>\n",
       "    <tr>\n",
       "      <th>4</th>\n",
       "      <td>Xiaomi Redmi Note 12 - 8GB RAM 128GB/256GB ROM...</td>\n",
       "      <td>Rs. 53,999</td>\n",
       "      <td>Free Delivery</td>\n",
       "      <td>Kashif Electronics (Karachi)</td>\n",
       "      <td>89%</td>\n",
       "      <td>89%</td>\n",
       "      <td>False</td>\n",
       "      <td>4.0</td>\n",
       "    </tr>\n",
       "    <tr>\n",
       "      <th>...</th>\n",
       "      <td>...</td>\n",
       "      <td>...</td>\n",
       "      <td>...</td>\n",
       "      <td>...</td>\n",
       "      <td>...</td>\n",
       "      <td>...</td>\n",
       "      <td>...</td>\n",
       "      <td>...</td>\n",
       "    </tr>\n",
       "    <tr>\n",
       "      <th>75</th>\n",
       "      <td>Xiaomi Redmi Note 12 RAM 8 GB ROM 128 Front Ca...</td>\n",
       "      <td>Rs. 53,890</td>\n",
       "      <td>Free Delivery</td>\n",
       "      <td>Ali Communication (Khanewal)</td>\n",
       "      <td>96%</td>\n",
       "      <td>96%</td>\n",
       "      <td>False</td>\n",
       "      <td>4.9</td>\n",
       "    </tr>\n",
       "    <tr>\n",
       "      <th>76</th>\n",
       "      <td>XIAOMI REDMI NOTE 12 8GB RAM 128GB ROM || 6.67...</td>\n",
       "      <td>Rs. 52,000</td>\n",
       "      <td>Free Delivery</td>\n",
       "      <td>Bismillah Mobile Zone (BMZ) Daska</td>\n",
       "      <td>93%</td>\n",
       "      <td>93%</td>\n",
       "      <td>False</td>\n",
       "      <td>5.0</td>\n",
       "    </tr>\n",
       "    <tr>\n",
       "      <th>77</th>\n",
       "      <td>Redmi Note 12 (8GB-128GB) PTA Approved With Of...</td>\n",
       "      <td>Rs. 51,999</td>\n",
       "      <td>Free Delivery</td>\n",
       "      <td>Xiaomi</td>\n",
       "      <td>93%</td>\n",
       "      <td>93%</td>\n",
       "      <td>True</td>\n",
       "      <td>4.8</td>\n",
       "    </tr>\n",
       "    <tr>\n",
       "      <th>78</th>\n",
       "      <td>Redmi Note 12 8GB Ram 128GB Rom, Display Size ...</td>\n",
       "      <td>Rs. 50,999</td>\n",
       "      <td>Free Delivery</td>\n",
       "      <td>Mashallah Trading.</td>\n",
       "      <td>None</td>\n",
       "      <td>New Seller</td>\n",
       "      <td>False</td>\n",
       "      <td>0</td>\n",
       "    </tr>\n",
       "    <tr>\n",
       "      <th>79</th>\n",
       "      <td>Redmi Note 12 Pro (8GB-256GB) PTA Approved Wit...</td>\n",
       "      <td>Rs. 89,999</td>\n",
       "      <td>Free Delivery</td>\n",
       "      <td>Xiaomi</td>\n",
       "      <td>93%</td>\n",
       "      <td>93%</td>\n",
       "      <td>True</td>\n",
       "      <td>4.6</td>\n",
       "    </tr>\n",
       "  </tbody>\n",
       "</table>\n",
       "<p>80 rows × 8 columns</p>\n",
       "</div>"
      ],
      "text/plain": [
       "                                                Title       Price  \\\n",
       "0   Xiaomi Redmi Note 12 || 8GB Ram 128GB Rom || 5...  Rs. 51,499   \n",
       "1   Redmi Note 12 - 6.67\" Inch Display - 8GB RAM -...  Rs. 51,299   \n",
       "2   Xiaomi Redmi Note 12 Pro RAM 8 GB ROM 256 GB F...  Rs. 88,840   \n",
       "3   Xiaomi Redmi Note 12 Pro RAM 8 GB ROM 256 GB F...  Rs. 88,880   \n",
       "4   Xiaomi Redmi Note 12 - 8GB RAM 128GB/256GB ROM...  Rs. 53,999   \n",
       "..                                                ...         ...   \n",
       "75  Xiaomi Redmi Note 12 RAM 8 GB ROM 128 Front Ca...  Rs. 53,890   \n",
       "76  XIAOMI REDMI NOTE 12 8GB RAM 128GB ROM || 6.67...  Rs. 52,000   \n",
       "77  Redmi Note 12 (8GB-128GB) PTA Approved With Of...  Rs. 51,999   \n",
       "78  Redmi Note 12 8GB Ram 128GB Rom, Display Size ...  Rs. 50,999   \n",
       "79  Redmi Note 12 Pro (8GB-256GB) PTA Approved Wit...  Rs. 89,999   \n",
       "\n",
       "         Delivery                         SellerName SellerRating  ShipOnTime  \\\n",
       "0   Free Delivery              MOBILE INN 1655541586          91%         91%   \n",
       "1   Free Delivery                Shop-Tech (Karachi)          85%         85%   \n",
       "2   Free Delivery     Sid Sam Communication Khanewal          93%         93%   \n",
       "3   Free Delivery       Ali Communication (Khanewal)          96%         96%   \n",
       "4   Free Delivery       Kashif Electronics (Karachi)          89%         89%   \n",
       "..            ...                                ...          ...         ...   \n",
       "75  Free Delivery       Ali Communication (Khanewal)          96%         96%   \n",
       "76  Free Delivery  Bismillah Mobile Zone (BMZ) Daska          93%         93%   \n",
       "77  Free Delivery                             Xiaomi          93%         93%   \n",
       "78  Free Delivery                 Mashallah Trading.         None  New Seller   \n",
       "79  Free Delivery                             Xiaomi          93%         93%   \n",
       "\n",
       "   Daraz Mall Status Ratings  \n",
       "0              False     4.7  \n",
       "1              False     4.1  \n",
       "2              False     5.0  \n",
       "3              False     5.0  \n",
       "4              False     4.0  \n",
       "..               ...     ...  \n",
       "75             False     4.9  \n",
       "76             False     5.0  \n",
       "77              True     4.8  \n",
       "78             False       0  \n",
       "79              True     4.6  \n",
       "\n",
       "[80 rows x 8 columns]"
      ]
     },
     "execution_count": 154,
     "metadata": {},
     "output_type": "execute_result"
    }
   ],
   "source": [
    "original=df.copy()\n",
    "original"
   ]
  },
  {
   "cell_type": "code",
   "execution_count": 261,
   "id": "d5877949",
   "metadata": {},
   "outputs": [],
   "source": [
    "original.to_csv('Daraz_scraped_data.csv', index=False)"
   ]
  },
  {
   "cell_type": "code",
   "execution_count": 155,
   "id": "2d9fdd3c",
   "metadata": {},
   "outputs": [
    {
     "name": "stdout",
     "output_type": "stream",
     "text": [
      "<class 'pandas.core.frame.DataFrame'>\n",
      "RangeIndex: 80 entries, 0 to 79\n",
      "Data columns (total 8 columns):\n",
      " #   Column             Non-Null Count  Dtype \n",
      "---  ------             --------------  ----- \n",
      " 0   Title              80 non-null     object\n",
      " 1   Price              80 non-null     object\n",
      " 2   Delivery           80 non-null     object\n",
      " 3   SellerName         80 non-null     object\n",
      " 4   SellerRating       74 non-null     object\n",
      " 5   ShipOnTime         80 non-null     object\n",
      " 6   Daraz Mall Status  80 non-null     object\n",
      " 7   Ratings            80 non-null     object\n",
      "dtypes: object(8)\n",
      "memory usage: 5.1+ KB\n"
     ]
    }
   ],
   "source": [
    "df.info()"
   ]
  },
  {
   "cell_type": "code",
   "execution_count": 164,
   "id": "63804950",
   "metadata": {},
   "outputs": [],
   "source": [
    "replace_dict={\"Rs.\":'',\",\":\"\",\"%\":'',\"Shipping on time information not found\":'0',\"No rating for this product\":'0',\"Shipping on time information not found\":'0',\"None\":'0',\"New Seller\":'0'}\n",
    "df['Price'].replace(replace_dict,regex=True,inplace=True)\n",
    "df['SellerRating'].replace(replace_dict,regex=True,inplace=True)\n",
    "df['ShipOnTime'].replace(replace_dict,regex=True,inplace=True)\n",
    "df['Ratings'].replace(replace_dict,regex=True,inplace=True)"
   ]
  },
  {
   "cell_type": "code",
   "execution_count": 166,
   "id": "95f9f646",
   "metadata": {},
   "outputs": [],
   "source": [
    "# List of columns to process\n",
    "columns_to_process = ['Price', 'SellerRating', 'ShipOnTime', 'Ratings']\n",
    "\n",
    "# Convert non-numeric values to zero in the specified columns\n",
    "for column in columns_to_process:\n",
    "    df[column] = pd.to_numeric(df[column], errors='coerce').fillna(0).astype(int)\n"
   ]
  },
  {
   "cell_type": "code",
   "execution_count": 168,
   "id": "b415b021",
   "metadata": {},
   "outputs": [
    {
     "data": {
      "text/plain": [
       "0     4.0\n",
       "1     4.0\n",
       "2     5.0\n",
       "3     5.0\n",
       "4     4.0\n",
       "     ... \n",
       "75    4.0\n",
       "76    5.0\n",
       "77    4.0\n",
       "78    0.0\n",
       "79    4.0\n",
       "Name: Ratings, Length: 80, dtype: float64"
      ]
     },
     "execution_count": 168,
     "metadata": {},
     "output_type": "execute_result"
    }
   ],
   "source": [
    "df['Price'].astype(int)\n",
    "df['SellerRating'].astype(int)\n",
    "df['ShipOnTime'].astype(int)\n",
    "df['Ratings'].astype(float)"
   ]
  },
  {
   "cell_type": "code",
   "execution_count": 169,
   "id": "6b7b463b",
   "metadata": {},
   "outputs": [
    {
     "name": "stdout",
     "output_type": "stream",
     "text": [
      "<class 'pandas.core.frame.DataFrame'>\n",
      "RangeIndex: 80 entries, 0 to 79\n",
      "Data columns (total 8 columns):\n",
      " #   Column             Non-Null Count  Dtype \n",
      "---  ------             --------------  ----- \n",
      " 0   Title              80 non-null     object\n",
      " 1   Price              80 non-null     int32 \n",
      " 2   Delivery           80 non-null     object\n",
      " 3   SellerName         80 non-null     object\n",
      " 4   SellerRating       80 non-null     int32 \n",
      " 5   ShipOnTime         80 non-null     int32 \n",
      " 6   Daraz Mall Status  80 non-null     object\n",
      " 7   Ratings            80 non-null     int32 \n",
      "dtypes: int32(4), object(4)\n",
      "memory usage: 3.9+ KB\n"
     ]
    }
   ],
   "source": [
    "df.info()"
   ]
  },
  {
   "cell_type": "markdown",
   "id": "f91e8d3e",
   "metadata": {},
   "source": [
    "## Calculating Score of each product and Finding the product with highest score"
   ]
  },
  {
   "cell_type": "code",
   "execution_count": 176,
   "id": "89928324",
   "metadata": {},
   "outputs": [],
   "source": [
    "def score(df):\n",
    "    a = 0\n",
    "    b = 0\n",
    "\n",
    "    if (df[\"Daraz Mall Status\"] == 'True').all():\n",
    "        a = 5000\n",
    "    if (df[\"Delivery\"] == 'Free Delivery').all():\n",
    "        b = 1000\n",
    "    \n",
    "    df[\"Score\"] = df[\"Price\"] + a + b + 10000 * ((0.4 * (df[\"Ratings\"] / 5)) + (0.4 * (df[\"SellerRating\"] / 100)) + (0.2 * (df[\"ShipOnTime\"] / 100)))\n",
    "\n",
    "score(df)"
   ]
  },
  {
   "cell_type": "code",
   "execution_count": 177,
   "id": "bf9f1568",
   "metadata": {},
   "outputs": [
    {
     "data": {
      "text/html": [
       "<div>\n",
       "<style scoped>\n",
       "    .dataframe tbody tr th:only-of-type {\n",
       "        vertical-align: middle;\n",
       "    }\n",
       "\n",
       "    .dataframe tbody tr th {\n",
       "        vertical-align: top;\n",
       "    }\n",
       "\n",
       "    .dataframe thead th {\n",
       "        text-align: right;\n",
       "    }\n",
       "</style>\n",
       "<table border=\"1\" class=\"dataframe\">\n",
       "  <thead>\n",
       "    <tr style=\"text-align: right;\">\n",
       "      <th></th>\n",
       "      <th>Title</th>\n",
       "      <th>Price</th>\n",
       "      <th>Delivery</th>\n",
       "      <th>SellerName</th>\n",
       "      <th>SellerRating</th>\n",
       "      <th>ShipOnTime</th>\n",
       "      <th>Daraz Mall Status</th>\n",
       "      <th>Ratings</th>\n",
       "      <th>Score</th>\n",
       "    </tr>\n",
       "  </thead>\n",
       "  <tbody>\n",
       "    <tr>\n",
       "      <th>0</th>\n",
       "      <td>Xiaomi Redmi Note 12 || 8GB Ram 128GB Rom || 5...</td>\n",
       "      <td>51499</td>\n",
       "      <td>Free Delivery</td>\n",
       "      <td>MOBILE INN 1655541586</td>\n",
       "      <td>91</td>\n",
       "      <td>91</td>\n",
       "      <td>False</td>\n",
       "      <td>4</td>\n",
       "      <td>60159.0</td>\n",
       "    </tr>\n",
       "    <tr>\n",
       "      <th>1</th>\n",
       "      <td>Redmi Note 12 - 6.67\" Inch Display - 8GB RAM -...</td>\n",
       "      <td>51299</td>\n",
       "      <td>Free Delivery</td>\n",
       "      <td>Shop-Tech (Karachi)</td>\n",
       "      <td>85</td>\n",
       "      <td>85</td>\n",
       "      <td>False</td>\n",
       "      <td>4</td>\n",
       "      <td>59599.0</td>\n",
       "    </tr>\n",
       "    <tr>\n",
       "      <th>2</th>\n",
       "      <td>Xiaomi Redmi Note 12 Pro RAM 8 GB ROM 256 GB F...</td>\n",
       "      <td>88840</td>\n",
       "      <td>Free Delivery</td>\n",
       "      <td>Sid Sam Communication Khanewal</td>\n",
       "      <td>93</td>\n",
       "      <td>93</td>\n",
       "      <td>False</td>\n",
       "      <td>5</td>\n",
       "      <td>98420.0</td>\n",
       "    </tr>\n",
       "    <tr>\n",
       "      <th>3</th>\n",
       "      <td>Xiaomi Redmi Note 12 Pro RAM 8 GB ROM 256 GB F...</td>\n",
       "      <td>88880</td>\n",
       "      <td>Free Delivery</td>\n",
       "      <td>Ali Communication (Khanewal)</td>\n",
       "      <td>96</td>\n",
       "      <td>96</td>\n",
       "      <td>False</td>\n",
       "      <td>5</td>\n",
       "      <td>98640.0</td>\n",
       "    </tr>\n",
       "    <tr>\n",
       "      <th>4</th>\n",
       "      <td>Xiaomi Redmi Note 12 - 8GB RAM 128GB/256GB ROM...</td>\n",
       "      <td>53999</td>\n",
       "      <td>Free Delivery</td>\n",
       "      <td>Kashif Electronics (Karachi)</td>\n",
       "      <td>89</td>\n",
       "      <td>89</td>\n",
       "      <td>False</td>\n",
       "      <td>4</td>\n",
       "      <td>62539.0</td>\n",
       "    </tr>\n",
       "    <tr>\n",
       "      <th>...</th>\n",
       "      <td>...</td>\n",
       "      <td>...</td>\n",
       "      <td>...</td>\n",
       "      <td>...</td>\n",
       "      <td>...</td>\n",
       "      <td>...</td>\n",
       "      <td>...</td>\n",
       "      <td>...</td>\n",
       "      <td>...</td>\n",
       "    </tr>\n",
       "    <tr>\n",
       "      <th>75</th>\n",
       "      <td>Xiaomi Redmi Note 12 RAM 8 GB ROM 128 Front Ca...</td>\n",
       "      <td>53890</td>\n",
       "      <td>Free Delivery</td>\n",
       "      <td>Ali Communication (Khanewal)</td>\n",
       "      <td>96</td>\n",
       "      <td>96</td>\n",
       "      <td>False</td>\n",
       "      <td>4</td>\n",
       "      <td>62850.0</td>\n",
       "    </tr>\n",
       "    <tr>\n",
       "      <th>76</th>\n",
       "      <td>XIAOMI REDMI NOTE 12 8GB RAM 128GB ROM || 6.67...</td>\n",
       "      <td>52000</td>\n",
       "      <td>Free Delivery</td>\n",
       "      <td>Bismillah Mobile Zone (BMZ) Daska</td>\n",
       "      <td>93</td>\n",
       "      <td>93</td>\n",
       "      <td>False</td>\n",
       "      <td>5</td>\n",
       "      <td>61580.0</td>\n",
       "    </tr>\n",
       "    <tr>\n",
       "      <th>77</th>\n",
       "      <td>Redmi Note 12 (8GB-128GB) PTA Approved With Of...</td>\n",
       "      <td>51999</td>\n",
       "      <td>Free Delivery</td>\n",
       "      <td>Xiaomi</td>\n",
       "      <td>93</td>\n",
       "      <td>93</td>\n",
       "      <td>True</td>\n",
       "      <td>4</td>\n",
       "      <td>60779.0</td>\n",
       "    </tr>\n",
       "    <tr>\n",
       "      <th>78</th>\n",
       "      <td>Redmi Note 12 8GB Ram 128GB Rom, Display Size ...</td>\n",
       "      <td>50999</td>\n",
       "      <td>Free Delivery</td>\n",
       "      <td>Mashallah Trading.</td>\n",
       "      <td>0</td>\n",
       "      <td>0</td>\n",
       "      <td>False</td>\n",
       "      <td>0</td>\n",
       "      <td>50999.0</td>\n",
       "    </tr>\n",
       "    <tr>\n",
       "      <th>79</th>\n",
       "      <td>Redmi Note 12 Pro (8GB-256GB) PTA Approved Wit...</td>\n",
       "      <td>89999</td>\n",
       "      <td>Free Delivery</td>\n",
       "      <td>Xiaomi</td>\n",
       "      <td>93</td>\n",
       "      <td>93</td>\n",
       "      <td>True</td>\n",
       "      <td>4</td>\n",
       "      <td>98779.0</td>\n",
       "    </tr>\n",
       "  </tbody>\n",
       "</table>\n",
       "<p>80 rows × 9 columns</p>\n",
       "</div>"
      ],
      "text/plain": [
       "                                                Title  Price       Delivery  \\\n",
       "0   Xiaomi Redmi Note 12 || 8GB Ram 128GB Rom || 5...  51499  Free Delivery   \n",
       "1   Redmi Note 12 - 6.67\" Inch Display - 8GB RAM -...  51299  Free Delivery   \n",
       "2   Xiaomi Redmi Note 12 Pro RAM 8 GB ROM 256 GB F...  88840  Free Delivery   \n",
       "3   Xiaomi Redmi Note 12 Pro RAM 8 GB ROM 256 GB F...  88880  Free Delivery   \n",
       "4   Xiaomi Redmi Note 12 - 8GB RAM 128GB/256GB ROM...  53999  Free Delivery   \n",
       "..                                                ...    ...            ...   \n",
       "75  Xiaomi Redmi Note 12 RAM 8 GB ROM 128 Front Ca...  53890  Free Delivery   \n",
       "76  XIAOMI REDMI NOTE 12 8GB RAM 128GB ROM || 6.67...  52000  Free Delivery   \n",
       "77  Redmi Note 12 (8GB-128GB) PTA Approved With Of...  51999  Free Delivery   \n",
       "78  Redmi Note 12 8GB Ram 128GB Rom, Display Size ...  50999  Free Delivery   \n",
       "79  Redmi Note 12 Pro (8GB-256GB) PTA Approved Wit...  89999  Free Delivery   \n",
       "\n",
       "                           SellerName  SellerRating  ShipOnTime  \\\n",
       "0               MOBILE INN 1655541586            91          91   \n",
       "1                 Shop-Tech (Karachi)            85          85   \n",
       "2      Sid Sam Communication Khanewal            93          93   \n",
       "3        Ali Communication (Khanewal)            96          96   \n",
       "4        Kashif Electronics (Karachi)            89          89   \n",
       "..                                ...           ...         ...   \n",
       "75       Ali Communication (Khanewal)            96          96   \n",
       "76  Bismillah Mobile Zone (BMZ) Daska            93          93   \n",
       "77                             Xiaomi            93          93   \n",
       "78                 Mashallah Trading.             0           0   \n",
       "79                             Xiaomi            93          93   \n",
       "\n",
       "   Daraz Mall Status  Ratings    Score  \n",
       "0              False        4  60159.0  \n",
       "1              False        4  59599.0  \n",
       "2              False        5  98420.0  \n",
       "3              False        5  98640.0  \n",
       "4              False        4  62539.0  \n",
       "..               ...      ...      ...  \n",
       "75             False        4  62850.0  \n",
       "76             False        5  61580.0  \n",
       "77              True        4  60779.0  \n",
       "78             False        0  50999.0  \n",
       "79              True        4  98779.0  \n",
       "\n",
       "[80 rows x 9 columns]"
      ]
     },
     "execution_count": 177,
     "metadata": {},
     "output_type": "execute_result"
    }
   ],
   "source": [
    "df"
   ]
  },
  {
   "cell_type": "code",
   "execution_count": 178,
   "id": "acaa9819",
   "metadata": {},
   "outputs": [
    {
     "data": {
      "text/plain": [
       "98779.0"
      ]
     },
     "execution_count": 178,
     "metadata": {},
     "output_type": "execute_result"
    }
   ],
   "source": [
    "df[\"Score\"].max()"
   ]
  },
  {
   "cell_type": "code",
   "execution_count": 184,
   "id": "8f9a5caa",
   "metadata": {},
   "outputs": [
    {
     "data": {
      "text/html": [
       "<div>\n",
       "<style scoped>\n",
       "    .dataframe tbody tr th:only-of-type {\n",
       "        vertical-align: middle;\n",
       "    }\n",
       "\n",
       "    .dataframe tbody tr th {\n",
       "        vertical-align: top;\n",
       "    }\n",
       "\n",
       "    .dataframe thead th {\n",
       "        text-align: right;\n",
       "    }\n",
       "</style>\n",
       "<table border=\"1\" class=\"dataframe\">\n",
       "  <thead>\n",
       "    <tr style=\"text-align: right;\">\n",
       "      <th></th>\n",
       "      <th>39</th>\n",
       "    </tr>\n",
       "  </thead>\n",
       "  <tbody>\n",
       "    <tr>\n",
       "      <th>Title</th>\n",
       "      <td>Redmi Note 12 Pro (8GB-256GB) PTA Approved Wit...</td>\n",
       "    </tr>\n",
       "    <tr>\n",
       "      <th>Price</th>\n",
       "      <td>89999</td>\n",
       "    </tr>\n",
       "    <tr>\n",
       "      <th>Delivery</th>\n",
       "      <td>Free Delivery</td>\n",
       "    </tr>\n",
       "    <tr>\n",
       "      <th>SellerName</th>\n",
       "      <td>Xiaomi</td>\n",
       "    </tr>\n",
       "    <tr>\n",
       "      <th>SellerRating</th>\n",
       "      <td>93</td>\n",
       "    </tr>\n",
       "    <tr>\n",
       "      <th>ShipOnTime</th>\n",
       "      <td>93</td>\n",
       "    </tr>\n",
       "    <tr>\n",
       "      <th>Daraz Mall Status</th>\n",
       "      <td>True</td>\n",
       "    </tr>\n",
       "    <tr>\n",
       "      <th>Ratings</th>\n",
       "      <td>4</td>\n",
       "    </tr>\n",
       "    <tr>\n",
       "      <th>Score</th>\n",
       "      <td>98779.0</td>\n",
       "    </tr>\n",
       "  </tbody>\n",
       "</table>\n",
       "</div>"
      ],
      "text/plain": [
       "                                                                  39\n",
       "Title              Redmi Note 12 Pro (8GB-256GB) PTA Approved Wit...\n",
       "Price                                                          89999\n",
       "Delivery                                               Free Delivery\n",
       "SellerName                                                    Xiaomi\n",
       "SellerRating                                                      93\n",
       "ShipOnTime                                                        93\n",
       "Daraz Mall Status                                               True\n",
       "Ratings                                                            4\n",
       "Score                                                        98779.0"
      ]
     },
     "execution_count": 184,
     "metadata": {},
     "output_type": "execute_result"
    }
   ],
   "source": [
    "max_score_row=df.loc[df[\"Score\"].idxmax()]\n",
    "df1=pd.DataFrame(max_score_row)\n",
    "df1"
   ]
  },
  {
   "cell_type": "markdown",
   "id": "598b73c6",
   "metadata": {},
   "source": [
    "# Question 04\n",
    "Having successfully identified the best product, proceed to its product page on Daraz. Your task is to scrape the product's reviews and perform sentiment analysis on these reviews. To conduct sentiment analysis, you can utilize the NLTK (Natural Language Toolkit) library, which will help you determine the sentiment expressed in the text of the reviews."
   ]
  },
  {
   "cell_type": "code",
   "execution_count": 187,
   "id": "8a019322",
   "metadata": {},
   "outputs": [
    {
     "data": {
      "text/html": [
       "<div>\n",
       "<style scoped>\n",
       "    .dataframe tbody tr th:only-of-type {\n",
       "        vertical-align: middle;\n",
       "    }\n",
       "\n",
       "    .dataframe tbody tr th {\n",
       "        vertical-align: top;\n",
       "    }\n",
       "\n",
       "    .dataframe thead th {\n",
       "        text-align: right;\n",
       "    }\n",
       "</style>\n",
       "<table border=\"1\" class=\"dataframe\">\n",
       "  <thead>\n",
       "    <tr style=\"text-align: right;\">\n",
       "      <th></th>\n",
       "      <th>Name</th>\n",
       "      <th>Review text</th>\n",
       "    </tr>\n",
       "  </thead>\n",
       "  <tbody>\n",
       "    <tr>\n",
       "      <th>0</th>\n",
       "      <td>Sheraz Q.</td>\n",
       "      <td>Seems good, Box packed Mobile received well be...</td>\n",
       "    </tr>\n",
       "    <tr>\n",
       "      <th>1</th>\n",
       "      <td>Dr.Noor M.</td>\n",
       "      <td>Thank You Xiaomi Store\\nThank You Daraz\\nThe p...</td>\n",
       "    </tr>\n",
       "    <tr>\n",
       "      <th>2</th>\n",
       "      <td>Sohail A.</td>\n",
       "      <td>worse when we want to open camera error is app...</td>\n",
       "    </tr>\n",
       "    <tr>\n",
       "      <th>3</th>\n",
       "      <td>khan</td>\n",
       "      <td>zabardast maza agay thank you Daraz bhot acha ...</td>\n",
       "    </tr>\n",
       "    <tr>\n",
       "      <th>4</th>\n",
       "      <td>Imran A.</td>\n",
       "      <td>Though delivery guys marked \"Delivered\" but di...</td>\n",
       "    </tr>\n",
       "    <tr>\n",
       "      <th>5</th>\n",
       "      <td>Ali H.</td>\n",
       "      <td>I recieved the product very well, even I order...</td>\n",
       "    </tr>\n",
       "    <tr>\n",
       "      <th>6</th>\n",
       "      <td>0***9</td>\n",
       "      <td>very safe packaging and original product deliv...</td>\n",
       "    </tr>\n",
       "    <tr>\n",
       "      <th>7</th>\n",
       "      <td>Asma</td>\n",
       "      <td>Daraz never disappoints me... very happy custo...</td>\n",
       "    </tr>\n",
       "    <tr>\n",
       "      <th>8</th>\n",
       "      <td>Muhammad Z.</td>\n",
       "      <td>best product Timely Dileverd 💯% Genuine Phone</td>\n",
       "    </tr>\n",
       "    <tr>\n",
       "      <th>9</th>\n",
       "      <td>Hikmat D.</td>\n",
       "      <td>recommend Cotton pack but Warranty card is mis...</td>\n",
       "    </tr>\n",
       "    <tr>\n",
       "      <th>10</th>\n",
       "      <td>Ali</td>\n",
       "      <td>After buying the next day you decrease the pri...</td>\n",
       "    </tr>\n",
       "    <tr>\n",
       "      <th>11</th>\n",
       "      <td>Muhammad S.</td>\n",
       "      <td>Great phone at its price. Better than the comp...</td>\n",
       "    </tr>\n",
       "    <tr>\n",
       "      <th>12</th>\n",
       "      <td>Raufi</td>\n",
       "      <td>this product have value for money.nice product...</td>\n",
       "    </tr>\n",
       "    <tr>\n",
       "      <th>13</th>\n",
       "      <td>Muhammad Z.</td>\n",
       "      <td>Good phone in this price range. Timely deliver...</td>\n",
       "    </tr>\n",
       "    <tr>\n",
       "      <th>14</th>\n",
       "      <td>Ali</td>\n",
       "      <td>After buying the next day you decrease the pri...</td>\n",
       "    </tr>\n",
       "    <tr>\n",
       "      <th>15</th>\n",
       "      <td>Muhammad S.</td>\n",
       "      <td>Great phone at its price. Better than the comp...</td>\n",
       "    </tr>\n",
       "    <tr>\n",
       "      <th>16</th>\n",
       "      <td>Raufi</td>\n",
       "      <td>this product have value for money.nice product...</td>\n",
       "    </tr>\n",
       "    <tr>\n",
       "      <th>17</th>\n",
       "      <td>Muhammad Z.</td>\n",
       "      <td>Good phone in this price range. Timely deliver...</td>\n",
       "    </tr>\n",
       "    <tr>\n",
       "      <th>18</th>\n",
       "      <td>zia</td>\n",
       "      <td>response was lol no warranty card no guidance....</td>\n",
       "    </tr>\n",
       "    <tr>\n",
       "      <th>19</th>\n",
       "      <td>Majid</td>\n",
       "      <td>excellent service with in given time line, pro...</td>\n",
       "    </tr>\n",
       "    <tr>\n",
       "      <th>20</th>\n",
       "      <td>Ghazanfar F.</td>\n",
       "      <td>Good Mobile. Delivered on same day. Value for ...</td>\n",
       "    </tr>\n",
       "    <tr>\n",
       "      <th>21</th>\n",
       "      <td>Shah N.</td>\n",
       "      <td>Good 👍 product and service</td>\n",
       "    </tr>\n",
       "    <tr>\n",
       "      <th>22</th>\n",
       "      <td>DaNish B.</td>\n",
       "      <td>bettery timing is not gd</td>\n",
       "    </tr>\n",
       "    <tr>\n",
       "      <th>23</th>\n",
       "      <td>Waqar K.</td>\n",
       "      <td>Beautiful cell phone!</td>\n",
       "    </tr>\n",
       "    <tr>\n",
       "      <th>24</th>\n",
       "      <td>waqas A.</td>\n",
       "      <td>excellent, recommend</td>\n",
       "    </tr>\n",
       "    <tr>\n",
       "      <th>25</th>\n",
       "      <td>zubair H.</td>\n",
       "      <td>Great product</td>\n",
       "    </tr>\n",
       "  </tbody>\n",
       "</table>\n",
       "</div>"
      ],
      "text/plain": [
       "            Name                                        Review text\n",
       "0      Sheraz Q.  Seems good, Box packed Mobile received well be...\n",
       "1     Dr.Noor M.  Thank You Xiaomi Store\\nThank You Daraz\\nThe p...\n",
       "2      Sohail A.  worse when we want to open camera error is app...\n",
       "3           khan  zabardast maza agay thank you Daraz bhot acha ...\n",
       "4       Imran A.  Though delivery guys marked \"Delivered\" but di...\n",
       "5         Ali H.  I recieved the product very well, even I order...\n",
       "6          0***9  very safe packaging and original product deliv...\n",
       "7           Asma  Daraz never disappoints me... very happy custo...\n",
       "8    Muhammad Z.     best product Timely Dileverd 💯% Genuine Phone \n",
       "9      Hikmat D.  recommend Cotton pack but Warranty card is mis...\n",
       "10           Ali  After buying the next day you decrease the pri...\n",
       "11   Muhammad S.  Great phone at its price. Better than the comp...\n",
       "12         Raufi  this product have value for money.nice product...\n",
       "13   Muhammad Z.  Good phone in this price range. Timely deliver...\n",
       "14           Ali  After buying the next day you decrease the pri...\n",
       "15   Muhammad S.  Great phone at its price. Better than the comp...\n",
       "16         Raufi  this product have value for money.nice product...\n",
       "17   Muhammad Z.  Good phone in this price range. Timely deliver...\n",
       "18           zia  response was lol no warranty card no guidance....\n",
       "19         Majid  excellent service with in given time line, pro...\n",
       "20  Ghazanfar F.  Good Mobile. Delivered on same day. Value for ...\n",
       "21       Shah N.                        Good 👍 product and service \n",
       "22     DaNish B.                           bettery timing is not gd\n",
       "23      Waqar K.                             Beautiful cell phone! \n",
       "24      waqas A.                              excellent, recommend \n",
       "25     zubair H.                                     Great product "
      ]
     },
     "execution_count": 187,
     "metadata": {},
     "output_type": "execute_result"
    }
   ],
   "source": [
    "driver = webdriver.Chrome(service=ChromeService(ChromeDriverManager().install()))\n",
    "url='https://www.daraz.pk/products/12-8gb-256gb-1-pta-i429264612-s2109849787.html?spm=a2a0e.searchlist.sku.1.63ae324dQyDnh9&search=1'\n",
    "driver.get(url)\n",
    "temp = dict()\n",
    "temp['Name'] = []\n",
    "temp['Review text'] = []\n",
    "\n",
    "driver.execute_script(\"window.scrollTo(0, 500);\")\n",
    "time.sleep(1)\n",
    "driver.execute_script(\"window.scrollTo(500, 800);\")\n",
    "time.sleep(1)\n",
    "driver.execute_script(\"window.scrollTo(800, 1000);\")\n",
    "time.sleep(2)\n",
    "driver.execute_script(\"window.scrollTo(1000, 1300);\")\n",
    "time.sleep(2)\n",
    "driver.execute_script(\"window.scrollTo(1300, 1600);\")\n",
    "time.sleep(1)\n",
    "\n",
    "for page in range(0,9):\n",
    "    try:\n",
    "        reviews_container = driver.find_element(By.XPATH, '/html/body/div[4]/div/div[9]/div[1]/div[2]/div/div/div/div[3]/div[1]')\n",
    "    except NoSuchElementException:\n",
    "        print('No Reviews')\n",
    "        break\n",
    "    reviews = reviews_container.find_elements(By.CLASS_NAME,'item')\n",
    "    \n",
    "    for i in range(len(reviews)):\n",
    "        if reviews[i].find_element(By.CSS_SELECTOR, f'#module_product_review > div > div > div:nth-child(3) > div.mod-reviews > div:nth-child({i+1}) > div.item-content > div.content').text != '':\n",
    "            temp['Name'].append(reviews[i].find_element(By.CLASS_NAME,'middle').find_element(By.TAG_NAME,'span').text[3:])\n",
    "            temp['Review text'].append(reviews[i].find_element(By.CSS_SELECTOR, f\"#module_product_review > div > div > div:nth-child(3) > div.mod-reviews > div:nth-child({i+1}) > div.item-content > div.content\").text)\n",
    "        \n",
    "    try:\n",
    "        if(page != 2):\n",
    "            nxt_button = driver.find_element(By.XPATH, '/html/body/div[4]/div/div[9]/div[1]/div[2]/div/div/div/div[3]/div[2]/div/button[2]')\n",
    "            driver.execute_script(\"arguments[0].click();\", nxt_button)\n",
    "            time.sleep(5)\n",
    "    except NoSuchElementException:\n",
    "        print('No More Pages')\n",
    "        break\n",
    "        \n",
    "reviews = pd.DataFrame(temp)\n",
    "\n",
    "reviews"
   ]
  },
  {
   "cell_type": "markdown",
   "id": "208eac41",
   "metadata": {},
   "source": [
    "## Sentiment Analysis on product reviews using NLTK"
   ]
  },
  {
   "cell_type": "code",
   "execution_count": 189,
   "id": "7051d592",
   "metadata": {},
   "outputs": [
    {
     "name": "stderr",
     "output_type": "stream",
     "text": [
      "[nltk_data] Downloading package vader_lexicon to\n",
      "[nltk_data]     C:\\Users\\HP\\AppData\\Roaming\\nltk_data...\n",
      "[nltk_data]   Package vader_lexicon is already up-to-date!\n"
     ]
    },
    {
     "data": {
      "text/html": [
       "<div>\n",
       "<style scoped>\n",
       "    .dataframe tbody tr th:only-of-type {\n",
       "        vertical-align: middle;\n",
       "    }\n",
       "\n",
       "    .dataframe tbody tr th {\n",
       "        vertical-align: top;\n",
       "    }\n",
       "\n",
       "    .dataframe thead th {\n",
       "        text-align: right;\n",
       "    }\n",
       "</style>\n",
       "<table border=\"1\" class=\"dataframe\">\n",
       "  <thead>\n",
       "    <tr style=\"text-align: right;\">\n",
       "      <th></th>\n",
       "      <th>Name</th>\n",
       "      <th>Review text</th>\n",
       "      <th>Sentiment</th>\n",
       "    </tr>\n",
       "  </thead>\n",
       "  <tbody>\n",
       "    <tr>\n",
       "      <th>0</th>\n",
       "      <td>Sheraz Q.</td>\n",
       "      <td>Seems good, Box packed Mobile received well be...</td>\n",
       "      <td>Positive</td>\n",
       "    </tr>\n",
       "    <tr>\n",
       "      <th>1</th>\n",
       "      <td>Dr.Noor M.</td>\n",
       "      <td>Thank You Xiaomi Store\\nThank You Daraz\\nThe p...</td>\n",
       "      <td>Positive</td>\n",
       "    </tr>\n",
       "    <tr>\n",
       "      <th>2</th>\n",
       "      <td>Sohail A.</td>\n",
       "      <td>worse when we want to open camera error is app...</td>\n",
       "      <td>Negative</td>\n",
       "    </tr>\n",
       "    <tr>\n",
       "      <th>3</th>\n",
       "      <td>khan</td>\n",
       "      <td>zabardast maza agay thank you Daraz bhot acha ...</td>\n",
       "      <td>Positive</td>\n",
       "    </tr>\n",
       "    <tr>\n",
       "      <th>4</th>\n",
       "      <td>Imran A.</td>\n",
       "      <td>Though delivery guys marked \"Delivered\" but di...</td>\n",
       "      <td>Neutral</td>\n",
       "    </tr>\n",
       "    <tr>\n",
       "      <th>5</th>\n",
       "      <td>Ali H.</td>\n",
       "      <td>I recieved the product very well, even I order...</td>\n",
       "      <td>Positive</td>\n",
       "    </tr>\n",
       "    <tr>\n",
       "      <th>6</th>\n",
       "      <td>0***9</td>\n",
       "      <td>very safe packaging and original product deliv...</td>\n",
       "      <td>Positive</td>\n",
       "    </tr>\n",
       "    <tr>\n",
       "      <th>7</th>\n",
       "      <td>Asma</td>\n",
       "      <td>Daraz never disappoints me... very happy custo...</td>\n",
       "      <td>Positive</td>\n",
       "    </tr>\n",
       "    <tr>\n",
       "      <th>8</th>\n",
       "      <td>Muhammad Z.</td>\n",
       "      <td>best product Timely Dileverd 💯% Genuine Phone</td>\n",
       "      <td>Positive</td>\n",
       "    </tr>\n",
       "    <tr>\n",
       "      <th>9</th>\n",
       "      <td>Hikmat D.</td>\n",
       "      <td>recommend Cotton pack but Warranty card is mis...</td>\n",
       "      <td>Negative</td>\n",
       "    </tr>\n",
       "    <tr>\n",
       "      <th>10</th>\n",
       "      <td>Ali</td>\n",
       "      <td>After buying the next day you decrease the pri...</td>\n",
       "      <td>Positive</td>\n",
       "    </tr>\n",
       "    <tr>\n",
       "      <th>11</th>\n",
       "      <td>Muhammad S.</td>\n",
       "      <td>Great phone at its price. Better than the comp...</td>\n",
       "      <td>Positive</td>\n",
       "    </tr>\n",
       "    <tr>\n",
       "      <th>12</th>\n",
       "      <td>Raufi</td>\n",
       "      <td>this product have value for money.nice product...</td>\n",
       "      <td>Positive</td>\n",
       "    </tr>\n",
       "    <tr>\n",
       "      <th>13</th>\n",
       "      <td>Muhammad Z.</td>\n",
       "      <td>Good phone in this price range. Timely deliver...</td>\n",
       "      <td>Positive</td>\n",
       "    </tr>\n",
       "    <tr>\n",
       "      <th>14</th>\n",
       "      <td>Ali</td>\n",
       "      <td>After buying the next day you decrease the pri...</td>\n",
       "      <td>Positive</td>\n",
       "    </tr>\n",
       "    <tr>\n",
       "      <th>15</th>\n",
       "      <td>Muhammad S.</td>\n",
       "      <td>Great phone at its price. Better than the comp...</td>\n",
       "      <td>Positive</td>\n",
       "    </tr>\n",
       "    <tr>\n",
       "      <th>16</th>\n",
       "      <td>Raufi</td>\n",
       "      <td>this product have value for money.nice product...</td>\n",
       "      <td>Positive</td>\n",
       "    </tr>\n",
       "    <tr>\n",
       "      <th>17</th>\n",
       "      <td>Muhammad Z.</td>\n",
       "      <td>Good phone in this price range. Timely deliver...</td>\n",
       "      <td>Positive</td>\n",
       "    </tr>\n",
       "    <tr>\n",
       "      <th>18</th>\n",
       "      <td>zia</td>\n",
       "      <td>response was lol no warranty card no guidance....</td>\n",
       "      <td>Negative</td>\n",
       "    </tr>\n",
       "    <tr>\n",
       "      <th>19</th>\n",
       "      <td>Majid</td>\n",
       "      <td>excellent service with in given time line, pro...</td>\n",
       "      <td>Positive</td>\n",
       "    </tr>\n",
       "    <tr>\n",
       "      <th>20</th>\n",
       "      <td>Ghazanfar F.</td>\n",
       "      <td>Good Mobile. Delivered on same day. Value for ...</td>\n",
       "      <td>Positive</td>\n",
       "    </tr>\n",
       "    <tr>\n",
       "      <th>21</th>\n",
       "      <td>Shah N.</td>\n",
       "      <td>Good 👍 product and service</td>\n",
       "      <td>Positive</td>\n",
       "    </tr>\n",
       "    <tr>\n",
       "      <th>22</th>\n",
       "      <td>DaNish B.</td>\n",
       "      <td>bettery timing is not gd</td>\n",
       "      <td>Neutral</td>\n",
       "    </tr>\n",
       "    <tr>\n",
       "      <th>23</th>\n",
       "      <td>Waqar K.</td>\n",
       "      <td>Beautiful cell phone!</td>\n",
       "      <td>Positive</td>\n",
       "    </tr>\n",
       "    <tr>\n",
       "      <th>24</th>\n",
       "      <td>waqas A.</td>\n",
       "      <td>excellent, recommend</td>\n",
       "      <td>Positive</td>\n",
       "    </tr>\n",
       "    <tr>\n",
       "      <th>25</th>\n",
       "      <td>zubair H.</td>\n",
       "      <td>Great product</td>\n",
       "      <td>Positive</td>\n",
       "    </tr>\n",
       "  </tbody>\n",
       "</table>\n",
       "</div>"
      ],
      "text/plain": [
       "            Name                                        Review text Sentiment\n",
       "0      Sheraz Q.  Seems good, Box packed Mobile received well be...  Positive\n",
       "1     Dr.Noor M.  Thank You Xiaomi Store\\nThank You Daraz\\nThe p...  Positive\n",
       "2      Sohail A.  worse when we want to open camera error is app...  Negative\n",
       "3           khan  zabardast maza agay thank you Daraz bhot acha ...  Positive\n",
       "4       Imran A.  Though delivery guys marked \"Delivered\" but di...   Neutral\n",
       "5         Ali H.  I recieved the product very well, even I order...  Positive\n",
       "6          0***9  very safe packaging and original product deliv...  Positive\n",
       "7           Asma  Daraz never disappoints me... very happy custo...  Positive\n",
       "8    Muhammad Z.     best product Timely Dileverd 💯% Genuine Phone   Positive\n",
       "9      Hikmat D.  recommend Cotton pack but Warranty card is mis...  Negative\n",
       "10           Ali  After buying the next day you decrease the pri...  Positive\n",
       "11   Muhammad S.  Great phone at its price. Better than the comp...  Positive\n",
       "12         Raufi  this product have value for money.nice product...  Positive\n",
       "13   Muhammad Z.  Good phone in this price range. Timely deliver...  Positive\n",
       "14           Ali  After buying the next day you decrease the pri...  Positive\n",
       "15   Muhammad S.  Great phone at its price. Better than the comp...  Positive\n",
       "16         Raufi  this product have value for money.nice product...  Positive\n",
       "17   Muhammad Z.  Good phone in this price range. Timely deliver...  Positive\n",
       "18           zia  response was lol no warranty card no guidance....  Negative\n",
       "19         Majid  excellent service with in given time line, pro...  Positive\n",
       "20  Ghazanfar F.  Good Mobile. Delivered on same day. Value for ...  Positive\n",
       "21       Shah N.                        Good 👍 product and service   Positive\n",
       "22     DaNish B.                           bettery timing is not gd   Neutral\n",
       "23      Waqar K.                             Beautiful cell phone!   Positive\n",
       "24      waqas A.                              excellent, recommend   Positive\n",
       "25     zubair H.                                     Great product   Positive"
      ]
     },
     "execution_count": 189,
     "metadata": {},
     "output_type": "execute_result"
    }
   ],
   "source": [
    "import nltk\n",
    "from nltk.sentiment import SentimentIntensityAnalyzer\n",
    "\n",
    "nltk.download('vader_lexicon')\n",
    "\n",
    "def sentiment(review):\n",
    "    analyser=SentimentIntensityAnalyzer()\n",
    "    polarity=analyser.polarity_scores(review)['compound']\n",
    "    \n",
    "    if polarity >= 0.05:\n",
    "        return 'Positive'\n",
    "    elif polarity <= -0.05:\n",
    "        return 'Negative'\n",
    "    else:\n",
    "        return 'Neutral'\n",
    "reviews[\"Sentiment\"]=reviews[\"Review text\"].apply(sentiment)\n",
    "\n",
    "reviews\n",
    "    \n",
    "        "
   ]
  }
 ],
 "metadata": {
  "kernelspec": {
   "display_name": "Python 3 (ipykernel)",
   "language": "python",
   "name": "python3"
  },
  "language_info": {
   "codemirror_mode": {
    "name": "ipython",
    "version": 3
   },
   "file_extension": ".py",
   "mimetype": "text/x-python",
   "name": "python",
   "nbconvert_exporter": "python",
   "pygments_lexer": "ipython3",
   "version": "3.9.12"
  }
 },
 "nbformat": 4,
 "nbformat_minor": 5
}
